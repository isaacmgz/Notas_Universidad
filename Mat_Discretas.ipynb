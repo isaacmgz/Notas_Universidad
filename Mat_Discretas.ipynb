{
 "cells": [
  {
   "cell_type": "markdown",
   "metadata": {},
   "source": [
    "# **Matemáticas Discretas I**\n",
    "\n",
    "**_Autor:_** Isaac Mesa Gómez\n",
    "\n",
    "**_Fecha:_** Julio 25, 2024\n",
    "\n",
    "**_Documentación_** `[Matemática discreta y sus aplicaciones](URL)` o `[Descargar PDF con información adicional](ruta/a/tu/archivo.pdf)`\n",
    "\n",
    "---\n",
    "\n",
    "Las matemáticas discretas son una rama de las matemáticas que estudia estructuras matemáticas que son fundamentalmente discretas en lugar de continuas. Se dice discreto porque se enfoca en objetos que son __contables__ y tienen una naturaleza __separada y distinta__, en lugar de tener un rango continuo."
   ]
  },
  {
   "cell_type": "markdown",
   "metadata": {},
   "source": [
    "<details>\n",
    "  <summary><span style=\"color:#ec5252;\">Gúia uso libro</span></summary>\n",
    "\n",
    "  | Capítulo  | Secciones centrales  | Secciones computación | Sección matemáticas |\n",
    "  |-----------|----------------------|-----------------------|---------------------|\n",
    "  |     1     | 1.1-1.3              |                       |                     |\n",
    "  |     2     | 2.1-2.3              | 2.5                   | 2.4, 2.5            |\n",
    "  |     3     | 3.1-3.4              | 3.3, 3.6              | 3.3                 |\n",
    "  |     4     | 4.1-4.4, 4.6         | 4.5, 4.7              | 4.8                 |\n",
    "  |     5     | 5.1, 5.2, 5.6, 5.7   | 5.3, 5.4, 5.8         | 5.1, 5.5, 5.9       |\n",
    "  |     6     | 6.1,                 | 6.2, 6.4              | 6.1, 6.4            |\n",
    "  |     7     | 7.1, 7.2             | 7.3, 7.4              | 7.1, 7.2, 7.4       |\n",
    "  |     8     | 8.1-8.3              | 8.4, 8.5              | 8.4, 8.5            |\n",
    "  |     9     | 9.1-9.4              | 9.5, 9.9              | 9.3                 |\n",
    "  |     10    | 10.1, 10.5           | 10.2-10.4, 10.6       | 10.1, 10.2, 10.5, 10.7|\n",
    "  |     11    | 11.1, 11.2           | 11.4                  | 11.3, 11.5          |\n",
    "  |     11    | 12.1, 12.2           | 12.3                  | 12.1-12.3           |\n",
    "\n",
    "  ![Dependencia de capitulos](files/Dependencia_Caps.png)\n",
    "\n",
    "  Cuenta con sección de soluciones.\n",
    "\n",
    "</details>"
   ]
  },
  {
   "cell_type": "markdown",
   "metadata": {},
   "source": [
    "### ☁️ Lógica y fundamentos"
   ]
  },
  {
   "cell_type": "markdown",
   "metadata": {},
   "source": [
    "<details>\n",
    "  <summary><b>Proposiciones</b></summary>\n",
    "  <p>Una proposición es una declaración que puede ser verdadera o falsa, pero no ambas. Es la unidad básica de la <i>lógica proposicional</i>.</p>\n",
    "\n",
    "  <details>\n",
    "    <summary>Ejemplos de Proposiciones</summary>\n",
    "    <ul>\n",
    "      <li>La tierra es redonda. (Verdadera)</li>\n",
    "      <li>El sol gira alrededor de la tierra. (Falsa)</li>\n",
    "      <li>2 + 2 = 4. (Verdadera)</li>\n",
    "      <li>Las vacas pueden volar. (Falsa)</li>\n",
    "    </ul>\n",
    "  </details>\n",
    "\n",
    "  <details>\n",
    "    <summary>¿Qué no es una proposición?</summary>\n",
    "    <p>Las preguntas, órdenes, y exclamaciones no son proposiciones porque no pueden ser clasificadas como verdaderas o falsas. Ejemplos:</p>\n",
    "    <ul>\n",
    "      <li>¿Qué hora es?</li>\n",
    "      <li>Cierra la puerta.</li>\n",
    "      <li>¡Qué bonito es el día!</li>\n",
    "      <li>x+1=2</li>\n",
    "    </ul>\n",
    "  </details>\n",
    "\n",
    "  En lógica, las proposiciones se denotan con letras mayúsculas y se utilizan varios símbolos para combinar o modificar estas proposiciones, las letras que se utilizan para denotar proposiciones son $P, Q, R, S, ...$\n",
    "\n",
    "  \n",
    "\n",
    "</details>"
   ]
  },
  {
   "cell_type": "markdown",
   "metadata": {},
   "source": [
    "<details>\n",
    "  <summary><b>Enunciados matemáticos</b></summary>\n",
    "\n",
    "  Tres de los tipos más importantes de enunciados en matemáticas son enunciados universales, enunciados condicionales y enunciados existenciales:\n",
    "\n",
    "  - Un __enunciado universal__ dice que una cierta propiedad es verdadera para todos los elementos de un conjunto. (<span style=\"color: #1073c5;\">Por ejemplo</span>: Todos los números positivos son mayores que cero).\n",
    "  - Un __enunciado condicional__, dice que si una cosa es verdad, otra cosa también tiene que ser verdad. (<span style=\"color: #1073c5;\">Por ejemplo</span>: Si 378 es divisible entre 18, entonces 378 es divisible entre 6).\n",
    "  - Dada una propiedad que puede o no puede ser verdad, un __enunciado existencial__, dice que hay al menos una cosa para la cual la propiedad es verdadera. (<span style=\"color: #1073c5;\">Por ejemplo</span>: Hay un número primo que es par).\n",
    "\n",
    "  _Nota:_ Los **_enunciados universales_** tienen alguna variación de las palabras _“para todo”_ y los enunciados condicionales contienen versiones de las palabras _“si-entonces”_. Un enunciado universal condicional es un enunciado que es a la vez universal y condicional.\n",
    "\n",
    "  _Nota 2:_ Un **_enunciado universal existencial_** es un enunciado que es universal porque su primera\n",
    "parte dice que una cierta propiedad es verdadera para todos los objetos de un tipo dado y\n",
    "es existencial porque su segunda parte asegura la existencia de algo, <span style=\"color: #1073c5;\">Por ejemplo</span>: Todo número real tiene un inverso aditivo.\n",
    "</details>\n",
    "\n",
    "\n"
   ]
  }
 ],
 "metadata": {
  "language_info": {
   "name": "python"
  }
 },
 "nbformat": 4,
 "nbformat_minor": 2
}
