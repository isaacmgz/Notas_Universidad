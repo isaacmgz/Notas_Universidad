{
 "cells": [
  {
   "cell_type": "markdown",
   "metadata": {},
   "source": [
    "# **Trigonometría**\n",
    "\n",
    "**_Autor:_** Isaac Mesa Gómez\n",
    "\n",
    "**_Fecha:_** Julio 24, 2024\n",
    "\n",
    "**_Documentación_** `[Texto del enlace](URL)` o `[Descargar PDF con información adicional](ruta/a/tu/archivo.pdf)`\n",
    "\n",
    "---\n",
    "\n",
    "Lista de herramientas y recursos utiles para problemas de trigonometría:"
   ]
  },
  {
   "cell_type": "markdown",
   "metadata": {},
   "source": [
    "|          | $0^\\circ$          | $30^\\circ$           | $45^\\circ$        | $60^\\circ$           | $90^\\circ$      |\n",
    "|----------|--------------------|----------------------|-------------------|----------------------|-----------------|\n",
    "| $\\sin x$ | $0$                | $\\frac{1}{2}$    | $\\frac{\\sqrt{2}}{2}$  | $\\frac{\\sqrt{3}}{2}$ | $1$             |\n",
    "| $\\cos x$ | $1$                | $\\frac{\\sqrt{3}}{2}$ | $\\frac{\\sqrt{2}}{2}$ | $\\frac{1}{2}$     | $0$             |\n",
    "| $\\tan x$ | $0$                | $\\frac{1}{\\sqrt{3}}$ | $1$               | $\\sqrt{3}$           | $\\infty$        |\n"
   ]
  },
  {
   "cell_type": "markdown",
   "metadata": {},
   "source": [
    "### ☁️ Definiciones de funciones trigonométricas"
   ]
  },
  {
   "cell_type": "markdown",
   "metadata": {},
   "source": [
    "<details>\n",
    "  <summary><b>Definición por series</b></summary>\n",
    "\n",
    "  1. __Función exponencial $e^x$:__ $$e^x = \\sum_{n=0}^{\\infty} \\frac{x^n}{n!}$$\n",
    "  2. __Función seno $Sin(x)$:__  $$\\sin x = \\sum_{n=0}^{\\infty} \\frac{(-1)^n x^{2n+1}}{(2n+1)!}$$\n",
    "  3. __Función coseno $Cos(x)$:__ $$\\cos x = \\sum_{n=0}^{\\infty} \\frac{(-1)^n x^{2n}}{(2n)!}$$\n",
    "\n",
    "</details>"
   ]
  },
  {
   "cell_type": "markdown",
   "metadata": {},
   "source": [
    "<details>\n",
    "  <summary><b>Identidades trigonometricas</b></summary>\n",
    "\n",
    "  - Identidad de Euler: $$e^{i\\theta} = \\cos(\\theta) + i \\sin(\\theta)$$\n",
    "  - Identidades pitagóricas:\n",
    "    - $\\sin^2(x) + \\cos^2(x) = 1$\n",
    "    - $1 + \\tan^2(x) = \\sec^2(x)$\n",
    "    - $1 + \\cot^2(x) = \\csc^2(x)$"
   ]
  },
  {
   "cell_type": "markdown",
   "metadata": {},
   "source": [
    "### ☁️ Operación entre y con funciones trigonometricas"
   ]
  },
  {
   "cell_type": "markdown",
   "metadata": {},
   "source": [
    "<details>\n",
    "  <summary><b>Sumatoria de ángulos</b></summary>\n",
    "\n",
    "  - $\\sin(\\alpha \\pm  \\beta) = \\sin \\alpha \\cos \\beta \\pm  \\cos \\alpha \\sin \\beta$\n",
    "  - $\\cos(\\alpha \\pm  \\beta) = \\cos \\alpha \\cos \\beta \\mp  \\sin \\alpha \\sin \\beta$\n",
    "  - $\\tan(\\alpha \\pm  \\beta) = \\frac{\\tan \\alpha \\pm  \\tan \\beta}{1 \\mp  \\tan \\alpha \\tan \\beta}$"
   ]
  },
  {
   "cell_type": "markdown",
   "metadata": {},
   "source": [
    "<details>\n",
    "  <summary><b>Sumatoria de ángulos dobles</b></summary>\n",
    "\n",
    "  - $\\sin(2x) = 2 \\sin(x) \\cos(x)$\n",
    "  - $\\cos(2x) = \\cos^2(x) - \\sin^2(x)$"
   ]
  },
  {
   "cell_type": "markdown",
   "metadata": {},
   "source": [
    "<details>\n",
    "  <summary><b>Sumatoria de funciones trigonometricas</b></summary>\n",
    "\n",
    "  - $\\sin(\\alpha) \\pm \\sin(\\beta) = 2 \\sin\\left(\\frac{\\alpha \\pm \\beta}{2}\\right) \\cos\\left(\\frac{\\alpha \\mp \\beta}{2}\\right)$\n",
    "  - $\\cos(\\alpha) + \\cos(\\beta) = 2 \\cos\\left(\\frac{\\alpha + \\beta}{2}\\right) \\cos\\left(\\frac{\\alpha - \\beta}{2}\\right)$\n",
    "  - $\\cos(\\alpha) - \\cos(\\beta) = -2 \\sin\\left(\\frac{\\alpha + \\beta}{2}\\right) \\sin\\left(\\frac{\\alpha - \\beta}{2}\\right)$\n",
    "</details>"
   ]
  },
  {
   "cell_type": "markdown",
   "metadata": {},
   "source": [
    "<details>\n",
    "  <summary><b>Producto entre funciones trigonométricas</b></summary>\n",
    "\n",
    "  - $\\sin(\\alpha) \\cos(\\beta) = \\frac{1}{2} \\left[\\sin(\\alpha + \\beta) + \\sin(\\alpha - \\beta)\\right]$\n",
    "  - $\\cos(\\alpha) \\sin(\\beta) = \\frac{1}{2} \\left[\\sin(\\alpha + \\beta) - \\sin(\\alpha - \\beta)\\right]$\n",
    "  - $\\sin(\\alpha) \\sin(\\beta) = \\frac{1}{2} \\left[\\cos(\\alpha - \\beta) - \\cos(\\alpha + \\beta)\\right]$\n",
    "  - $\\cos(\\alpha) \\cos(\\beta) = \\frac{1}{2} \\left[\\cos(\\alpha + \\beta) + \\cos(\\alpha - \\beta)\\right]$\n"
   ]
  },
  {
   "cell_type": "markdown",
   "metadata": {},
   "source": [
    "<details>\n",
    "  <summary><b>Giro de cuadrantes</b></summary>\n",
    "\n",
    "  - $\\cos \\theta = \\sin (\\theta+\\pi /2) \\rightarrow \\sin \\theta = \\cos (\\theta-\\pi/2)$"
   ]
  },
  {
   "cell_type": "markdown",
   "metadata": {},
   "source": []
  }
 ],
 "metadata": {
  "language_info": {
   "name": "python"
  }
 },
 "nbformat": 4,
 "nbformat_minor": 2
}
