{
 "cells": [
  {
   "cell_type": "code",
   "execution_count": 38,
   "metadata": {
    "vscode": {
     "languageId": "r"
    }
   },
   "outputs": [],
   "source": [
    "### Librerías\n",
    "\n",
    "library(dplyr)\n",
    "library(ggplot2)\n",
    "library(readr)\n",
    "library(readxl)\n",
    "library(agricolae)\n",
    "library(modeest)\n",
    "library(moments)"
   ]
  },
  {
   "cell_type": "code",
   "execution_count": 14,
   "metadata": {
    "vscode": {
     "languageId": "r"
    }
   },
   "outputs": [
    {
     "data": {
      "text/html": [
       "<style>\n",
       ".list-inline {list-style: none; margin:0; padding: 0}\n",
       ".list-inline>li {display: inline-block}\n",
       ".list-inline>li:not(:last-child)::after {content: \"\\00b7\"; padding: 0 .5ex}\n",
       "</style>\n",
       "<ol class=list-inline><li>'MUESTRA'</li><li>'id'</li><li>'Nombre_app'</li><li>'tamaño_bytes'</li><li>'Paises'</li><li>'precio'</li><li>'calificación'</li><li>'calificación-nueva'</li><li>'restricción'</li><li>'género'</li><li>'disp_soporte'</li><li>'capt_pantalla'</li><li>'idiomas_sopor'</li></ol>\n"
      ],
      "text/latex": [
       "\\begin{enumerate*}\n",
       "\\item 'MUESTRA'\n",
       "\\item 'id'\n",
       "\\item 'Nombre\\_app'\n",
       "\\item 'tamaño\\_bytes'\n",
       "\\item 'Paises'\n",
       "\\item 'precio'\n",
       "\\item 'calificación'\n",
       "\\item 'calificación-nueva'\n",
       "\\item 'restricción'\n",
       "\\item 'género'\n",
       "\\item 'disp\\_soporte'\n",
       "\\item 'capt\\_pantalla'\n",
       "\\item 'idiomas\\_sopor'\n",
       "\\end{enumerate*}\n"
      ],
      "text/markdown": [
       "1. 'MUESTRA'\n",
       "2. 'id'\n",
       "3. 'Nombre_app'\n",
       "4. 'tamaño_bytes'\n",
       "5. 'Paises'\n",
       "6. 'precio'\n",
       "7. 'calificación'\n",
       "8. 'calificación-nueva'\n",
       "9. 'restricción'\n",
       "10. 'género'\n",
       "11. 'disp_soporte'\n",
       "12. 'capt_pantalla'\n",
       "13. 'idiomas_sopor'\n",
       "\n",
       "\n"
      ],
      "text/plain": [
       " [1] \"MUESTRA\"            \"id\"                 \"Nombre_app\"        \n",
       " [4] \"tamaño_bytes\"       \"Paises\"             \"precio\"            \n",
       " [7] \"calificación\"       \"calificación-nueva\" \"restricción\"       \n",
       "[10] \"género\"             \"disp_soporte\"       \"capt_pantalla\"     \n",
       "[13] \"idiomas_sopor\"     "
      ]
     },
     "metadata": {},
     "output_type": "display_data"
    },
    {
     "data": {
      "text/html": [
       "<table class=\"dataframe\">\n",
       "<caption>A tibble: 6 × 13</caption>\n",
       "<thead>\n",
       "\t<tr><th scope=col>MUESTRA</th><th scope=col>id</th><th scope=col>Nombre_app</th><th scope=col>tamaño_bytes</th><th scope=col>Paises</th><th scope=col>precio</th><th scope=col>calificación</th><th scope=col>calificación-nueva</th><th scope=col>restricción</th><th scope=col>género</th><th scope=col>disp_soporte</th><th scope=col>capt_pantalla</th><th scope=col>idiomas_sopor</th></tr>\n",
       "\t<tr><th scope=col>&lt;dbl&gt;</th><th scope=col>&lt;dbl&gt;</th><th scope=col>&lt;chr&gt;</th><th scope=col>&lt;dbl&gt;</th><th scope=col>&lt;chr&gt;</th><th scope=col>&lt;chr&gt;</th><th scope=col>&lt;chr&gt;</th><th scope=col>&lt;chr&gt;</th><th scope=col>&lt;chr&gt;</th><th scope=col>&lt;chr&gt;</th><th scope=col>&lt;dbl&gt;</th><th scope=col>&lt;dbl&gt;</th><th scope=col>&lt;dbl&gt;</th></tr>\n",
       "</thead>\n",
       "<tbody>\n",
       "\t<tr><td>197</td><td>328205875</td><td>Monkey Preschool Lunchbox</td><td>229272576</td><td>USA    </td><td>1.99</td><td>4  </td><td>3.5</td><td>4+ </td><td>Games        </td><td>38</td><td>5</td><td>1</td></tr>\n",
       "\t<tr><td>237</td><td>336141475</td><td>mmm                      </td><td>204959744</td><td>Francia</td><td>0   </td><td>3.5</td><td>0  </td><td>12+</td><td>Entertainment</td><td>38</td><td>0</td><td>2</td></tr>\n",
       "\t<tr><td>343</td><td>359891723</td><td>ESPN Tournament Challenge</td><td> 69057536</td><td>Korea  </td><td>0   </td><td>4  </td><td>4  </td><td>4+ </td><td>Sports       </td><td>37</td><td>5</td><td>1</td></tr>\n",
       "\t<tr><td>329</td><td>355524910</td><td>Worms 2: Armageddon      </td><td>529755136</td><td>Korea  </td><td>4.99</td><td>4.5</td><td>4.5</td><td>12+</td><td>Games        </td><td>40</td><td>5</td><td>1</td></tr>\n",
       "\t<tr><td>164</td><td>320300350</td><td>Virtual Families         </td><td> 27746273</td><td>Francia</td><td>1.99</td><td>3.5</td><td>4.5</td><td>9+ </td><td>Games        </td><td>47</td><td>0</td><td>1</td></tr>\n",
       "\t<tr><td>244</td><td>336689375</td><td>TeachMe: Kindergarten    </td><td> 59846656</td><td>Korea  </td><td>1.99</td><td>4  </td><td>4  </td><td>4+ </td><td>Education    </td><td>37</td><td>5</td><td>1</td></tr>\n",
       "</tbody>\n",
       "</table>\n"
      ],
      "text/latex": [
       "A tibble: 6 × 13\n",
       "\\begin{tabular}{lllllllllllll}\n",
       " MUESTRA & id & Nombre\\_app & tamaño\\_bytes & Paises & precio & calificación & calificación-nueva & restricción & género & disp\\_soporte & capt\\_pantalla & idiomas\\_sopor\\\\\n",
       " <dbl> & <dbl> & <chr> & <dbl> & <chr> & <chr> & <chr> & <chr> & <chr> & <chr> & <dbl> & <dbl> & <dbl>\\\\\n",
       "\\hline\n",
       "\t 197 & 328205875 & Monkey Preschool Lunchbox & 229272576 & USA     & 1.99 & 4   & 3.5 & 4+  & Games         & 38 & 5 & 1\\\\\n",
       "\t 237 & 336141475 & mmm                       & 204959744 & Francia & 0    & 3.5 & 0   & 12+ & Entertainment & 38 & 0 & 2\\\\\n",
       "\t 343 & 359891723 & ESPN Tournament Challenge &  69057536 & Korea   & 0    & 4   & 4   & 4+  & Sports        & 37 & 5 & 1\\\\\n",
       "\t 329 & 355524910 & Worms 2: Armageddon       & 529755136 & Korea   & 4.99 & 4.5 & 4.5 & 12+ & Games         & 40 & 5 & 1\\\\\n",
       "\t 164 & 320300350 & Virtual Families          &  27746273 & Francia & 1.99 & 3.5 & 4.5 & 9+  & Games         & 47 & 0 & 1\\\\\n",
       "\t 244 & 336689375 & TeachMe: Kindergarten     &  59846656 & Korea   & 1.99 & 4   & 4   & 4+  & Education     & 37 & 5 & 1\\\\\n",
       "\\end{tabular}\n"
      ],
      "text/markdown": [
       "\n",
       "A tibble: 6 × 13\n",
       "\n",
       "| MUESTRA &lt;dbl&gt; | id &lt;dbl&gt; | Nombre_app &lt;chr&gt; | tamaño_bytes &lt;dbl&gt; | Paises &lt;chr&gt; | precio &lt;chr&gt; | calificación &lt;chr&gt; | calificación-nueva &lt;chr&gt; | restricción &lt;chr&gt; | género &lt;chr&gt; | disp_soporte &lt;dbl&gt; | capt_pantalla &lt;dbl&gt; | idiomas_sopor &lt;dbl&gt; |\n",
       "|---|---|---|---|---|---|---|---|---|---|---|---|---|\n",
       "| 197 | 328205875 | Monkey Preschool Lunchbox | 229272576 | USA     | 1.99 | 4   | 3.5 | 4+  | Games         | 38 | 5 | 1 |\n",
       "| 237 | 336141475 | mmm                       | 204959744 | Francia | 0    | 3.5 | 0   | 12+ | Entertainment | 38 | 0 | 2 |\n",
       "| 343 | 359891723 | ESPN Tournament Challenge |  69057536 | Korea   | 0    | 4   | 4   | 4+  | Sports        | 37 | 5 | 1 |\n",
       "| 329 | 355524910 | Worms 2: Armageddon       | 529755136 | Korea   | 4.99 | 4.5 | 4.5 | 12+ | Games         | 40 | 5 | 1 |\n",
       "| 164 | 320300350 | Virtual Families          |  27746273 | Francia | 1.99 | 3.5 | 4.5 | 9+  | Games         | 47 | 0 | 1 |\n",
       "| 244 | 336689375 | TeachMe: Kindergarten     |  59846656 | Korea   | 1.99 | 4   | 4   | 4+  | Education     | 37 | 5 | 1 |\n",
       "\n"
      ],
      "text/plain": [
       "  MUESTRA id        Nombre_app                tamaño_bytes Paises  precio\n",
       "1 197     328205875 Monkey Preschool Lunchbox 229272576    USA     1.99  \n",
       "2 237     336141475 mmm                       204959744    Francia 0     \n",
       "3 343     359891723 ESPN Tournament Challenge  69057536    Korea   0     \n",
       "4 329     355524910 Worms 2: Armageddon       529755136    Korea   4.99  \n",
       "5 164     320300350 Virtual Families           27746273    Francia 1.99  \n",
       "6 244     336689375 TeachMe: Kindergarten      59846656    Korea   1.99  \n",
       "  calificación calificación-nueva restricción género        disp_soporte\n",
       "1 4            3.5                4+          Games         38          \n",
       "2 3.5          0                  12+         Entertainment 38          \n",
       "3 4            4                  4+          Sports        37          \n",
       "4 4.5          4.5                12+         Games         40          \n",
       "5 3.5          4.5                9+          Games         47          \n",
       "6 4            4                  4+          Education     37          \n",
       "  capt_pantalla idiomas_sopor\n",
       "1 5             1            \n",
       "2 0             2            \n",
       "3 5             1            \n",
       "4 5             1            \n",
       "5 0             1            \n",
       "6 5             1            "
      ]
     },
     "metadata": {},
     "output_type": "display_data"
    }
   ],
   "source": [
    "datos  <- read_excel(\"/home/isaacmgz/Escritorio/Grupo1.xlsx\")\n",
    "names(datos)\n",
    "head(datos)"
   ]
  },
  {
   "cell_type": "markdown",
   "metadata": {},
   "source": [
    "1. Construir una tabla de frecuencias para datos simples que le permita describir como es el comporta-\n",
    "miento la calificación de las aplicaciones ¿qué se puede concluir?"
   ]
  },
  {
   "cell_type": "code",
   "execution_count": 5,
   "metadata": {
    "vscode": {
     "languageId": "r"
    }
   },
   "outputs": [],
   "source": [
    "#head(datos)\n",
    "#tabla de frecuencias para datos simples\n",
    "tdfs <- function(Variable){# Los datos deben de estar guardados en un vector\n",
    "  tabla1 <- as.data.frame(table(Variable))\n",
    "  tabla1 <- transform(tabla1, Ni = cumsum(Freq), fi = round(prop.table(Freq), 4))\n",
    "  tabla1 <- transform(tabla1, Fi = cumsum(fi))\n",
    "  tabla1\n",
    "}"
   ]
  },
  {
   "cell_type": "code",
   "execution_count": 6,
   "metadata": {
    "vscode": {
     "languageId": "r"
    }
   },
   "outputs": [
    {
     "data": {
      "text/html": [
       "<table class=\"dataframe\">\n",
       "<caption>A data.frame: 8 × 5</caption>\n",
       "<thead>\n",
       "\t<tr><th scope=col>Variable</th><th scope=col>Freq</th><th scope=col>Ni</th><th scope=col>fi</th><th scope=col>Fi</th></tr>\n",
       "\t<tr><th scope=col>&lt;fct&gt;</th><th scope=col>&lt;int&gt;</th><th scope=col>&lt;int&gt;</th><th scope=col>&lt;dbl&gt;</th><th scope=col>&lt;dbl&gt;</th></tr>\n",
       "</thead>\n",
       "<tbody>\n",
       "\t<tr><td>0  </td><td> 1</td><td>  1</td><td>0.004</td><td>0.004</td></tr>\n",
       "\t<tr><td>2  </td><td> 3</td><td>  4</td><td>0.012</td><td>0.016</td></tr>\n",
       "\t<tr><td>2.5</td><td> 8</td><td> 12</td><td>0.032</td><td>0.048</td></tr>\n",
       "\t<tr><td>3  </td><td>29</td><td> 41</td><td>0.116</td><td>0.164</td></tr>\n",
       "\t<tr><td>3.5</td><td>61</td><td>102</td><td>0.244</td><td>0.408</td></tr>\n",
       "\t<tr><td>4  </td><td>90</td><td>192</td><td>0.360</td><td>0.768</td></tr>\n",
       "\t<tr><td>4.5</td><td>57</td><td>249</td><td>0.228</td><td>0.996</td></tr>\n",
       "\t<tr><td>5  </td><td> 1</td><td>250</td><td>0.004</td><td>1.000</td></tr>\n",
       "</tbody>\n",
       "</table>\n"
      ],
      "text/latex": [
       "A data.frame: 8 × 5\n",
       "\\begin{tabular}{lllll}\n",
       " Variable & Freq & Ni & fi & Fi\\\\\n",
       " <fct> & <int> & <int> & <dbl> & <dbl>\\\\\n",
       "\\hline\n",
       "\t 0   &  1 &   1 & 0.004 & 0.004\\\\\n",
       "\t 2   &  3 &   4 & 0.012 & 0.016\\\\\n",
       "\t 2.5 &  8 &  12 & 0.032 & 0.048\\\\\n",
       "\t 3   & 29 &  41 & 0.116 & 0.164\\\\\n",
       "\t 3.5 & 61 & 102 & 0.244 & 0.408\\\\\n",
       "\t 4   & 90 & 192 & 0.360 & 0.768\\\\\n",
       "\t 4.5 & 57 & 249 & 0.228 & 0.996\\\\\n",
       "\t 5   &  1 & 250 & 0.004 & 1.000\\\\\n",
       "\\end{tabular}\n"
      ],
      "text/markdown": [
       "\n",
       "A data.frame: 8 × 5\n",
       "\n",
       "| Variable &lt;fct&gt; | Freq &lt;int&gt; | Ni &lt;int&gt; | fi &lt;dbl&gt; | Fi &lt;dbl&gt; |\n",
       "|---|---|---|---|---|\n",
       "| 0   |  1 |   1 | 0.004 | 0.004 |\n",
       "| 2   |  3 |   4 | 0.012 | 0.016 |\n",
       "| 2.5 |  8 |  12 | 0.032 | 0.048 |\n",
       "| 3   | 29 |  41 | 0.116 | 0.164 |\n",
       "| 3.5 | 61 | 102 | 0.244 | 0.408 |\n",
       "| 4   | 90 | 192 | 0.360 | 0.768 |\n",
       "| 4.5 | 57 | 249 | 0.228 | 0.996 |\n",
       "| 5   |  1 | 250 | 0.004 | 1.000 |\n",
       "\n"
      ],
      "text/plain": [
       "  Variable Freq Ni  fi    Fi   \n",
       "1 0         1     1 0.004 0.004\n",
       "2 2         3     4 0.012 0.016\n",
       "3 2.5       8    12 0.032 0.048\n",
       "4 3        29    41 0.116 0.164\n",
       "5 3.5      61   102 0.244 0.408\n",
       "6 4        90   192 0.360 0.768\n",
       "7 4.5      57   249 0.228 0.996\n",
       "8 5         1   250 0.004 1.000"
      ]
     },
     "metadata": {},
     "output_type": "display_data"
    },
    {
     "data": {
      "text/html": [
       "<table class=\"dataframe\">\n",
       "<caption>A data.frame: 10 × 5</caption>\n",
       "<thead>\n",
       "\t<tr><th scope=col>Variable</th><th scope=col>Freq</th><th scope=col>Ni</th><th scope=col>fi</th><th scope=col>Fi</th></tr>\n",
       "\t<tr><th scope=col>&lt;fct&gt;</th><th scope=col>&lt;int&gt;</th><th scope=col>&lt;int&gt;</th><th scope=col>&lt;dbl&gt;</th><th scope=col>&lt;dbl&gt;</th></tr>\n",
       "</thead>\n",
       "<tbody>\n",
       "\t<tr><td>0  </td><td>29</td><td> 29</td><td>0.116</td><td>0.116</td></tr>\n",
       "\t<tr><td>1  </td><td> 3</td><td> 32</td><td>0.012</td><td>0.128</td></tr>\n",
       "\t<tr><td>1.5</td><td> 1</td><td> 33</td><td>0.004</td><td>0.132</td></tr>\n",
       "\t<tr><td>2  </td><td>10</td><td> 43</td><td>0.040</td><td>0.172</td></tr>\n",
       "\t<tr><td>2.5</td><td>19</td><td> 62</td><td>0.076</td><td>0.248</td></tr>\n",
       "\t<tr><td>3  </td><td>11</td><td> 73</td><td>0.044</td><td>0.292</td></tr>\n",
       "\t<tr><td>3.5</td><td>19</td><td> 92</td><td>0.076</td><td>0.368</td></tr>\n",
       "\t<tr><td>4  </td><td>46</td><td>138</td><td>0.184</td><td>0.552</td></tr>\n",
       "\t<tr><td>4.5</td><td>63</td><td>201</td><td>0.252</td><td>0.804</td></tr>\n",
       "\t<tr><td>5  </td><td>49</td><td>250</td><td>0.196</td><td>1.000</td></tr>\n",
       "</tbody>\n",
       "</table>\n"
      ],
      "text/latex": [
       "A data.frame: 10 × 5\n",
       "\\begin{tabular}{lllll}\n",
       " Variable & Freq & Ni & fi & Fi\\\\\n",
       " <fct> & <int> & <int> & <dbl> & <dbl>\\\\\n",
       "\\hline\n",
       "\t 0   & 29 &  29 & 0.116 & 0.116\\\\\n",
       "\t 1   &  3 &  32 & 0.012 & 0.128\\\\\n",
       "\t 1.5 &  1 &  33 & 0.004 & 0.132\\\\\n",
       "\t 2   & 10 &  43 & 0.040 & 0.172\\\\\n",
       "\t 2.5 & 19 &  62 & 0.076 & 0.248\\\\\n",
       "\t 3   & 11 &  73 & 0.044 & 0.292\\\\\n",
       "\t 3.5 & 19 &  92 & 0.076 & 0.368\\\\\n",
       "\t 4   & 46 & 138 & 0.184 & 0.552\\\\\n",
       "\t 4.5 & 63 & 201 & 0.252 & 0.804\\\\\n",
       "\t 5   & 49 & 250 & 0.196 & 1.000\\\\\n",
       "\\end{tabular}\n"
      ],
      "text/markdown": [
       "\n",
       "A data.frame: 10 × 5\n",
       "\n",
       "| Variable &lt;fct&gt; | Freq &lt;int&gt; | Ni &lt;int&gt; | fi &lt;dbl&gt; | Fi &lt;dbl&gt; |\n",
       "|---|---|---|---|---|\n",
       "| 0   | 29 |  29 | 0.116 | 0.116 |\n",
       "| 1   |  3 |  32 | 0.012 | 0.128 |\n",
       "| 1.5 |  1 |  33 | 0.004 | 0.132 |\n",
       "| 2   | 10 |  43 | 0.040 | 0.172 |\n",
       "| 2.5 | 19 |  62 | 0.076 | 0.248 |\n",
       "| 3   | 11 |  73 | 0.044 | 0.292 |\n",
       "| 3.5 | 19 |  92 | 0.076 | 0.368 |\n",
       "| 4   | 46 | 138 | 0.184 | 0.552 |\n",
       "| 4.5 | 63 | 201 | 0.252 | 0.804 |\n",
       "| 5   | 49 | 250 | 0.196 | 1.000 |\n",
       "\n"
      ],
      "text/plain": [
       "   Variable Freq Ni  fi    Fi   \n",
       "1  0        29    29 0.116 0.116\n",
       "2  1         3    32 0.012 0.128\n",
       "3  1.5       1    33 0.004 0.132\n",
       "4  2        10    43 0.040 0.172\n",
       "5  2.5      19    62 0.076 0.248\n",
       "6  3        11    73 0.044 0.292\n",
       "7  3.5      19    92 0.076 0.368\n",
       "8  4        46   138 0.184 0.552\n",
       "9  4.5      63   201 0.252 0.804\n",
       "10 5        49   250 0.196 1.000"
      ]
     },
     "metadata": {},
     "output_type": "display_data"
    }
   ],
   "source": [
    "tdfs(datos$`calificación`); tdfs(datos$`calificación-nueva`)"
   ]
  },
  {
   "cell_type": "markdown",
   "metadata": {},
   "source": [
    "2. Construya un gráfico con el que pueda explicar la frecuencia de las calificaciones nuevas sobre las\n",
    "diferentes aplicaciones. Explique los resultados."
   ]
  },
  {
   "cell_type": "code",
   "execution_count": 7,
   "metadata": {
    "vscode": {
     "languageId": "r"
    }
   },
   "outputs": [
    {
     "data": {
      "image/png": "[encoded data removed]",
      "text/plain": [
       "plot without title"
      ]
     },
     "metadata": {
      "image/png": {
       "height": 420,
       "width": 420
      }
     },
     "output_type": "display_data"
    }
   ],
   "source": [
    "df  <- data.frame(\n",
    "  calificacion = c(0, 1, 1.5, 2, 2.5, 3, 3.5, 4, 4.5, 5),\n",
    "  frecuencia = c(29, 3, 1, 10, 19, 11, 19, 46, 63, 49)\n",
    ")\n",
    "\n",
    "ggplot(df, aes(x = factor(calificacion), y = frecuencia)) +\n",
    "  geom_bar(stat = \"identity\", fill = \"skyblue\", color = \"black\") +\n",
    "  labs(title = \"Frecuencia de Calificaciones Nuevas\",\n",
    "       x = \"Calificación\",\n",
    "       y = \"Frecuencia\") +\n",
    "  theme_minimal() +\n",
    "  theme(axis.text.x = element_text(angle = 45, hjust = 1))"
   ]
  },
  {
   "cell_type": "markdown",
   "metadata": {},
   "source": [
    "3. Construir una tabla de frecuencias para datos agrupados que le permita describir el tamaño de las\n",
    "aplicaciones. ¿qué se puede concluir?"
   ]
  },
  {
   "cell_type": "code",
   "execution_count": 8,
   "metadata": {
    "vscode": {
     "languageId": "r"
    }
   },
   "outputs": [
    {
     "data": {
      "text/html": [
       "<table class=\"dataframe\">\n",
       "<caption>A data.frame: 9 × 7</caption>\n",
       "<thead>\n",
       "\t<tr><th scope=col>Lower</th><th scope=col>Upper</th><th scope=col>Main</th><th scope=col>Frequency</th><th scope=col>Percentage</th><th scope=col>CF</th><th scope=col>CPF</th></tr>\n",
       "\t<tr><th scope=col>&lt;dbl&gt;</th><th scope=col>&lt;dbl&gt;</th><th scope=col>&lt;dbl&gt;</th><th scope=col>&lt;dbl&gt;</th><th scope=col>&lt;dbl&gt;</th><th scope=col>&lt;dbl&gt;</th><th scope=col>&lt;dbl&gt;</th></tr>\n",
       "</thead>\n",
       "<tbody>\n",
       "\t<tr><td>0e+00</td><td>1e+08</td><td>5.0e+07</td><td>153</td><td>61.2</td><td>153</td><td> 61.2</td></tr>\n",
       "\t<tr><td>1e+08</td><td>2e+08</td><td>1.5e+08</td><td> 73</td><td>29.2</td><td>226</td><td> 90.4</td></tr>\n",
       "\t<tr><td>2e+08</td><td>3e+08</td><td>2.5e+08</td><td> 17</td><td> 6.8</td><td>243</td><td> 97.2</td></tr>\n",
       "\t<tr><td>3e+08</td><td>4e+08</td><td>3.5e+08</td><td>  2</td><td> 0.8</td><td>245</td><td> 98.0</td></tr>\n",
       "\t<tr><td>4e+08</td><td>5e+08</td><td>4.5e+08</td><td>  1</td><td> 0.4</td><td>246</td><td> 98.4</td></tr>\n",
       "\t<tr><td>5e+08</td><td>6e+08</td><td>5.5e+08</td><td>  2</td><td> 0.8</td><td>248</td><td> 99.2</td></tr>\n",
       "\t<tr><td>6e+08</td><td>7e+08</td><td>6.5e+08</td><td>  0</td><td> 0.0</td><td>248</td><td> 99.2</td></tr>\n",
       "\t<tr><td>7e+08</td><td>8e+08</td><td>7.5e+08</td><td>  1</td><td> 0.4</td><td>249</td><td> 99.6</td></tr>\n",
       "\t<tr><td>8e+08</td><td>9e+08</td><td>8.5e+08</td><td>  1</td><td> 0.4</td><td>250</td><td>100.0</td></tr>\n",
       "</tbody>\n",
       "</table>\n"
      ],
      "text/latex": [
       "A data.frame: 9 × 7\n",
       "\\begin{tabular}{lllllll}\n",
       " Lower & Upper & Main & Frequency & Percentage & CF & CPF\\\\\n",
       " <dbl> & <dbl> & <dbl> & <dbl> & <dbl> & <dbl> & <dbl>\\\\\n",
       "\\hline\n",
       "\t 0e+00 & 1e+08 & 5.0e+07 & 153 & 61.2 & 153 &  61.2\\\\\n",
       "\t 1e+08 & 2e+08 & 1.5e+08 &  73 & 29.2 & 226 &  90.4\\\\\n",
       "\t 2e+08 & 3e+08 & 2.5e+08 &  17 &  6.8 & 243 &  97.2\\\\\n",
       "\t 3e+08 & 4e+08 & 3.5e+08 &   2 &  0.8 & 245 &  98.0\\\\\n",
       "\t 4e+08 & 5e+08 & 4.5e+08 &   1 &  0.4 & 246 &  98.4\\\\\n",
       "\t 5e+08 & 6e+08 & 5.5e+08 &   2 &  0.8 & 248 &  99.2\\\\\n",
       "\t 6e+08 & 7e+08 & 6.5e+08 &   0 &  0.0 & 248 &  99.2\\\\\n",
       "\t 7e+08 & 8e+08 & 7.5e+08 &   1 &  0.4 & 249 &  99.6\\\\\n",
       "\t 8e+08 & 9e+08 & 8.5e+08 &   1 &  0.4 & 250 & 100.0\\\\\n",
       "\\end{tabular}\n"
      ],
      "text/markdown": [
       "\n",
       "A data.frame: 9 × 7\n",
       "\n",
       "| Lower &lt;dbl&gt; | Upper &lt;dbl&gt; | Main &lt;dbl&gt; | Frequency &lt;dbl&gt; | Percentage &lt;dbl&gt; | CF &lt;dbl&gt; | CPF &lt;dbl&gt; |\n",
       "|---|---|---|---|---|---|---|\n",
       "| 0e+00 | 1e+08 | 5.0e+07 | 153 | 61.2 | 153 |  61.2 |\n",
       "| 1e+08 | 2e+08 | 1.5e+08 |  73 | 29.2 | 226 |  90.4 |\n",
       "| 2e+08 | 3e+08 | 2.5e+08 |  17 |  6.8 | 243 |  97.2 |\n",
       "| 3e+08 | 4e+08 | 3.5e+08 |   2 |  0.8 | 245 |  98.0 |\n",
       "| 4e+08 | 5e+08 | 4.5e+08 |   1 |  0.4 | 246 |  98.4 |\n",
       "| 5e+08 | 6e+08 | 5.5e+08 |   2 |  0.8 | 248 |  99.2 |\n",
       "| 6e+08 | 7e+08 | 6.5e+08 |   0 |  0.0 | 248 |  99.2 |\n",
       "| 7e+08 | 8e+08 | 7.5e+08 |   1 |  0.4 | 249 |  99.6 |\n",
       "| 8e+08 | 9e+08 | 8.5e+08 |   1 |  0.4 | 250 | 100.0 |\n",
       "\n"
      ],
      "text/plain": [
       "  Lower Upper Main    Frequency Percentage CF  CPF  \n",
       "1 0e+00 1e+08 5.0e+07 153       61.2       153  61.2\n",
       "2 1e+08 2e+08 1.5e+08  73       29.2       226  90.4\n",
       "3 2e+08 3e+08 2.5e+08  17        6.8       243  97.2\n",
       "4 3e+08 4e+08 3.5e+08   2        0.8       245  98.0\n",
       "5 4e+08 5e+08 4.5e+08   1        0.4       246  98.4\n",
       "6 5e+08 6e+08 5.5e+08   2        0.8       248  99.2\n",
       "7 6e+08 7e+08 6.5e+08   0        0.0       248  99.2\n",
       "8 7e+08 8e+08 7.5e+08   1        0.4       249  99.6\n",
       "9 8e+08 9e+08 8.5e+08   1        0.4       250 100.0"
      ]
     },
     "metadata": {},
     "output_type": "display_data"
    },
    {
     "data": {
      "text/plain": [
       "$breaks\n",
       " [1] 0e+00 1e+08 2e+08 3e+08 4e+08 5e+08 6e+08 7e+08 8e+08 9e+08\n",
       "\n",
       "$counts\n",
       "[1] 153  73  17   2   1   2   0   1   1\n",
       "\n",
       "$density\n",
       "[1] 6.12e-09 2.92e-09 6.80e-10 8.00e-11 4.00e-11 8.00e-11 0.00e+00 4.00e-11\n",
       "[9] 4.00e-11\n",
       "\n",
       "$mids\n",
       "[1] 5.0e+07 1.5e+08 2.5e+08 3.5e+08 4.5e+08 5.5e+08 6.5e+08 7.5e+08 8.5e+08\n",
       "\n",
       "$xname\n",
       "[1] \"tam_b\"\n",
       "\n",
       "$equidist\n",
       "[1] TRUE\n",
       "\n",
       "attr(,\"class\")\n",
       "[1] \"histogram\""
      ]
     },
     "metadata": {},
     "output_type": "display_data"
    }
   ],
   "source": [
    "tam_b <- c(datos$`tamaño_bytes`) \n",
    "\n",
    "k_ <- ceiling(1 + 3.322 * log10(length(tam_b)))\n",
    "ran <- max(tam_b) - min(tam_b)\n",
    "amp <- ran / k_\n",
    "\n",
    "li <- min(tam_b)\n",
    "ls <- max(tam_b)\n",
    "\n",
    "lista_tam <- hist(tam_b, breaks = k_, plot = FALSE)\n",
    "\n",
    "tablaf  <- table.freq(lista_tam)\n",
    "tablaf; lista_tam"
   ]
  },
  {
   "cell_type": "code",
   "execution_count": 9,
   "metadata": {
    "vscode": {
     "languageId": "r"
    }
   },
   "outputs": [
    {
     "data": {
      "text/html": [
       "<table class=\"dataframe\">\n",
       "<caption>A data.frame: 9 × 6</caption>\n",
       "<thead>\n",
       "\t<tr><th scope=col>intervalos</th><th scope=col>Freq</th><th scope=col>Ni</th><th scope=col>fi</th><th scope=col>Fi</th><th scope=col>MC</th></tr>\n",
       "\t<tr><th scope=col>&lt;fct&gt;</th><th scope=col>&lt;int&gt;</th><th scope=col>&lt;int&gt;</th><th scope=col>&lt;dbl&gt;</th><th scope=col>&lt;dbl&gt;</th><th scope=col>&lt;dbl&gt;</th></tr>\n",
       "</thead>\n",
       "<tbody>\n",
       "\t<tr><td>(-1.11e+05,9.83e+07]</td><td>152</td><td>152</td><td>0.608</td><td>0.608</td><td> 49094500</td></tr>\n",
       "\t<tr><td>(9.83e+07,1.96e+08] </td><td> 73</td><td>225</td><td>0.292</td><td>0.900</td><td>147150000</td></tr>\n",
       "\t<tr><td>(1.96e+08,2.93e+08] </td><td> 18</td><td>243</td><td>0.072</td><td>0.972</td><td>244500000</td></tr>\n",
       "\t<tr><td>(2.93e+08,3.91e+08] </td><td>  2</td><td>245</td><td>0.008</td><td>0.980</td><td>342000000</td></tr>\n",
       "\t<tr><td>(3.91e+08,4.89e+08] </td><td>  1</td><td>246</td><td>0.004</td><td>0.984</td><td>440000000</td></tr>\n",
       "\t<tr><td>(4.89e+08,5.86e+08] </td><td>  2</td><td>248</td><td>0.008</td><td>0.992</td><td>537500000</td></tr>\n",
       "\t<tr><td>(5.86e+08,6.84e+08] </td><td>  0</td><td>248</td><td>0.000</td><td>0.992</td><td>635000000</td></tr>\n",
       "\t<tr><td>(6.84e+08,7.81e+08] </td><td>  1</td><td>249</td><td>0.004</td><td>0.996</td><td>732500000</td></tr>\n",
       "\t<tr><td>(7.81e+08,8.8e+08]  </td><td>  1</td><td>250</td><td>0.004</td><td>1.000</td><td>830500000</td></tr>\n",
       "</tbody>\n",
       "</table>\n"
      ],
      "text/latex": [
       "A data.frame: 9 × 6\n",
       "\\begin{tabular}{llllll}\n",
       " intervalos & Freq & Ni & fi & Fi & MC\\\\\n",
       " <fct> & <int> & <int> & <dbl> & <dbl> & <dbl>\\\\\n",
       "\\hline\n",
       "\t (-1.11e+05,9.83e+07{]} & 152 & 152 & 0.608 & 0.608 &  49094500\\\\\n",
       "\t (9.83e+07,1.96e+08{]}  &  73 & 225 & 0.292 & 0.900 & 147150000\\\\\n",
       "\t (1.96e+08,2.93e+08{]}  &  18 & 243 & 0.072 & 0.972 & 244500000\\\\\n",
       "\t (2.93e+08,3.91e+08{]}  &   2 & 245 & 0.008 & 0.980 & 342000000\\\\\n",
       "\t (3.91e+08,4.89e+08{]}  &   1 & 246 & 0.004 & 0.984 & 440000000\\\\\n",
       "\t (4.89e+08,5.86e+08{]}  &   2 & 248 & 0.008 & 0.992 & 537500000\\\\\n",
       "\t (5.86e+08,6.84e+08{]}  &   0 & 248 & 0.000 & 0.992 & 635000000\\\\\n",
       "\t (6.84e+08,7.81e+08{]}  &   1 & 249 & 0.004 & 0.996 & 732500000\\\\\n",
       "\t (7.81e+08,8.8e+08{]}   &   1 & 250 & 0.004 & 1.000 & 830500000\\\\\n",
       "\\end{tabular}\n"
      ],
      "text/markdown": [
       "\n",
       "A data.frame: 9 × 6\n",
       "\n",
       "| intervalos &lt;fct&gt; | Freq &lt;int&gt; | Ni &lt;int&gt; | fi &lt;dbl&gt; | Fi &lt;dbl&gt; | MC &lt;dbl&gt; |\n",
       "|---|---|---|---|---|---|\n",
       "| (-1.11e+05,9.83e+07] | 152 | 152 | 0.608 | 0.608 |  49094500 |\n",
       "| (9.83e+07,1.96e+08]  |  73 | 225 | 0.292 | 0.900 | 147150000 |\n",
       "| (1.96e+08,2.93e+08]  |  18 | 243 | 0.072 | 0.972 | 244500000 |\n",
       "| (2.93e+08,3.91e+08]  |   2 | 245 | 0.008 | 0.980 | 342000000 |\n",
       "| (3.91e+08,4.89e+08]  |   1 | 246 | 0.004 | 0.984 | 440000000 |\n",
       "| (4.89e+08,5.86e+08]  |   2 | 248 | 0.008 | 0.992 | 537500000 |\n",
       "| (5.86e+08,6.84e+08]  |   0 | 248 | 0.000 | 0.992 | 635000000 |\n",
       "| (6.84e+08,7.81e+08]  |   1 | 249 | 0.004 | 0.996 | 732500000 |\n",
       "| (7.81e+08,8.8e+08]   |   1 | 250 | 0.004 | 1.000 | 830500000 |\n",
       "\n"
      ],
      "text/plain": [
       "  intervalos           Freq Ni  fi    Fi    MC       \n",
       "1 (-1.11e+05,9.83e+07] 152  152 0.608 0.608  49094500\n",
       "2 (9.83e+07,1.96e+08]   73  225 0.292 0.900 147150000\n",
       "3 (1.96e+08,2.93e+08]   18  243 0.072 0.972 244500000\n",
       "4 (2.93e+08,3.91e+08]    2  245 0.008 0.980 342000000\n",
       "5 (3.91e+08,4.89e+08]    1  246 0.004 0.984 440000000\n",
       "6 (4.89e+08,5.86e+08]    2  248 0.008 0.992 537500000\n",
       "7 (5.86e+08,6.84e+08]    0  248 0.000 0.992 635000000\n",
       "8 (6.84e+08,7.81e+08]    1  249 0.004 0.996 732500000\n",
       "9 (7.81e+08,8.8e+08]     1  250 0.004 1.000 830500000"
      ]
     },
     "metadata": {},
     "output_type": "display_data"
    }
   ],
   "source": [
    "tdfA <- function(y) {# Los datos deben de estar guardados en un vector\n",
    "  # Calculamos el número de clases usando la fórmula de Sturge\n",
    "  k <- nclass.Sturges(y)\n",
    "  \n",
    "  # Formamos los intervalos de clase\n",
    "  intervalos <- cut(y, breaks = k)\n",
    "  \n",
    "  # Tabla de frecuencias absolutas\n",
    "  tabla2 <- as.data.frame(table(intervalos))\n",
    "  \n",
    "  # Añadimos frecuencias acumuladas y frecuencias relativas\n",
    "  tabla2 <- transform(tabla2, Ni = cumsum(Freq), fi = round(prop.table(Freq), 4))\n",
    "  \n",
    "  # Añadimos frecuencias relativas acumuladas \n",
    "  tabla2 <- transform(tabla2, Fi = cumsum(fi))\n",
    "  \n",
    "  # Para obtener los puntos medios de los intervalos de clase, usaremos \n",
    "  midpoints <- function(x, dp=2){\n",
    "    lower <- as.numeric(gsub(',.*','',gsub('\\\\(|\\\\[|\\\\)|\\\\]','', x)))\n",
    "    upper <- as.numeric(gsub('.*,','',gsub('\\\\(|\\\\[|\\\\)|\\\\]','', x)))\n",
    "    return(round(lower+(upper-lower)/2, dp))\n",
    "  }\n",
    "  # Agregamos la columna de puntos medios de los intervalos de clase                                 \n",
    "  tabla2 <- transform(tabla2, MC = midpoints(intervalos))\n",
    "  \n",
    "  tabla2\n",
    "} \n",
    "\n",
    "tdfA(tam_b)"
   ]
  },
  {
   "cell_type": "markdown",
   "metadata": {},
   "source": [
    "4. Determine las medidas de tendencia central, de dispersión, asimetrı́a y curtosis y escriba un párrafo\n",
    "donde integre la información recolectada en el contexto de la variable precio de la aplicación."
   ]
  },
  {
   "cell_type": "code",
   "execution_count": 10,
   "metadata": {
    "vscode": {
     "languageId": "r"
    }
   },
   "outputs": [
    {
     "name": "stdout",
     "output_type": "stream",
     "text": [
      "Media: 3.15428 , Mediana: 0.99 , Moda: 0 \n",
      "Varianza: 274.9833 , Desviación: 16.58262 , Coef Disperción: 5.257181 \n",
      "Simetría: 13.60832 , Curtosis: 199.3851"
     ]
    }
   ],
   "source": [
    "prec_app  <- as.numeric(datos$`precio`)\n",
    "\n",
    "media_prec  <- mean(prec_app)\n",
    "mediana_prec  <- median(prec_app)\n",
    "moda_prec  <- mfv(prec_app)\n",
    "\n",
    "cat('Media:', media_prec, ', Mediana:', mediana_prec, ', Moda:', moda_prec, '\\n')\n",
    "\n",
    "varianza_prec  <- var(prec_app)\n",
    "desviacion_prec  <- sd(prec_app)\n",
    "coef_dispercion_prec  <- desviacion_prec / media_prec\n",
    "\n",
    "cat('Varianza:', varianza_prec, ', Desviación:', desviacion_prec, ', Coef Disperción:', coef_dispercion_prec, '\\n')\n",
    "\n",
    "simetria_prec <- skewness(prec_app) \n",
    "curtosis_prec <- kurtosis(prec_app) \n",
    "\n",
    "cat('Simetría:', simetria_prec,', Curtosis:', curtosis_prec)"
   ]
  },
  {
   "cell_type": "markdown",
   "metadata": {},
   "source": [
    "5. Halle el tamaño de las aplicaciones por captura de pantallas y presente un gráfico donde se exhiba\n",
    "cual es la cantidad de capturas asociadas a los mayores y menores tamaños, además determine en\n",
    "cual cantidad de capturas hay mayor variabildad con respecto al tamaño de las aplicaciones."
   ]
  },
  {
   "cell_type": "code",
   "execution_count": 13,
   "metadata": {
    "vscode": {
     "languageId": "r"
    }
   },
   "outputs": [
    {
     "data": {
      "image/png": "[encoded data removed]",
      "text/plain": [
       "plot without title"
      ]
     },
     "metadata": {
      "image/png": {
       "height": 420,
       "width": 420
      }
     },
     "output_type": "display_data"
    }
   ],
   "source": [
    "boxplot(datos$`tamaño_bytes` ~ datos$capt_pantalla, \n",
    "        xlab = 'Tamaño (bytes)', horizontal = TRUE, ylab= 'Captura de pantalla', col=c('green', 'pink', 'darkblue', 'red','brown', 'yellow'))"
   ]
  },
  {
   "cell_type": "markdown",
   "metadata": {},
   "source": [
    "6. Para las aplicaciones que permiten soporta 37 dispositivos, se cree que los géneros Medical y Book\n",
    "son las menos producidas y la de género Travel es la mas producida, ¿son ciertas las afirmaciones?"
   ]
  },
  {
   "cell_type": "markdown",
   "metadata": {},
   "source": [
    "7. Construya un gráfico donde se pueda determinar la proporción de capturas permitidas para las\n",
    "aplicaciones creadas en Korea. ¿cuales son las cantidades de capturas con mayor y menor proporción?"
   ]
  },
  {
   "cell_type": "code",
   "execution_count": 22,
   "metadata": {
    "vscode": {
     "languageId": "r"
    }
   },
   "outputs": [
    {
     "data": {
      "text/plain": [
       "\n",
       " 0  1  2  3  4  5 \n",
       "21  7  4  6 10 52 "
      ]
     },
     "metadata": {},
     "output_type": "display_data"
    },
    {
     "name": "stdout",
     "output_type": "stream",
     "text": [
      "[1] \"Captura con mayor proporción: 5\"\n",
      "[1] \"Captura con menor proporción: 2\"\n"
     ]
    },
    {
     "data": {
      "image/png": "[encoded data removed]",
      "text/plain": [
       "Plot with title “Proporción de capturas permitidas en aplicaciones de Korea”"
      ]
     },
     "metadata": {
      "image/png": {
       "height": 420,
       "width": 420
      }
     },
     "output_type": "display_data"
    }
   ],
   "source": [
    "dat_korea <- datos[datos$`Paises` == 'Korea',]\n",
    "\n",
    "tabla_cap <- table(dat_korea$capt_pantalla)\n",
    "tabla_cap\n",
    "\n",
    "porcentajes <- prop.table(tabla_cap) * 100\n",
    "\n",
    "# Crear el gráfico de pastel\n",
    "pie(tabla_cap, \n",
    "    labels = paste(names(tabla_cap), \"\\n\", round(porcentajes, 1), \"%\"),\n",
    "    main = \"Proporción de capturas permitidas en aplicaciones de Korea\")\n",
    "\n",
    "# Para encontrar las cantidades con mayor y menor proporción\n",
    "max_prop <- names(which.max(tabla_cap))\n",
    "min_prop <- names(which.min(tabla_cap))\n",
    "\n",
    "print(paste(\"Captura con mayor proporción:\", max_prop))\n",
    "print(paste(\"Captura con menor proporción:\", min_prop))"
   ]
  },
  {
   "cell_type": "markdown",
   "metadata": {},
   "source": [
    "8. En las aplicaciones con restricción 12+, ¿cuál es el precio medio? ¿es este precio significativamente\n",
    "menor que en las aplicaciones con resticción 17+ o mayor?"
   ]
  },
  {
   "cell_type": "code",
   "execution_count": 51,
   "metadata": {
    "vscode": {
     "languageId": "r"
    }
   },
   "outputs": [
    {
     "name": "stdout",
     "output_type": "stream",
     "text": [
      "[1] \"Precio medio de aplicaciones 12+: 1.45\"\n",
      "[1] \"Precio medio de aplicaciones 17+ o mayor: 1.26\"\n",
      "\n",
      "\tWelch Two Sample t-test\n",
      "\n",
      "data:  as.numeric(apps_12p$precio) and as.numeric(apps_17p$precio)\n",
      "t = 0.3686, df = 54.309, p-value = 0.7139\n",
      "alternative hypothesis: true difference in means is not equal to 0\n",
      "95 percent confidence interval:\n",
      " -0.8803488  1.2770351\n",
      "sample estimates:\n",
      "mean of x mean of y \n",
      " 1.454865  1.256522 \n",
      "\n",
      "[1] \"Diferencia porcentual: 13.63 %\"\n"
     ]
    }
   ],
   "source": [
    "apps_12p <- datos[datos$restricción == \"12+\", ]\n",
    "prom_12p <- mean(as.numeric(apps_12p$precio))\n",
    "print(paste(\"Precio medio de aplicaciones 12+:\", round(prom_12p, 2)))\n",
    "\n",
    "apps_17p <- datos[datos$restricción == \"17+\", ]\n",
    "prom_17p <- mean(as.numeric(apps_17p$precio))\n",
    "\n",
    "print(paste(\"Precio medio de aplicaciones 17+ o mayor:\", round(prom_17p, 2)))\n",
    "\n",
    "result_t <- t.test(as.numeric(apps_12p$precio), as.numeric(apps_17p$precio))\n",
    "\n",
    "print(result_t)\n",
    "\n",
    "dif_p <- abs(prom_17p - prom_12p) / prom_12p * 100\n",
    "\n",
    "print(paste(\"Diferencia porcentual:\", round(dif_p, 2), \"%\"))"
   ]
  },
  {
   "cell_type": "markdown",
   "metadata": {},
   "source": [
    "9. Construya una tabla de contingencia con la que pueda determinar: el paı́s que produce mayor cantidad\n",
    "de aplicaciones Games con restricciones 4+ y la cantidad producida, además, el paı́s que produce\n",
    "menor cantidad de aplicaciones Photo & Video con restricciones 4+ y la cantidad producida."
   ]
  },
  {
   "cell_type": "code",
   "execution_count": 58,
   "metadata": {
    "vscode": {
     "languageId": "r"
    }
   },
   "outputs": [
    {
     "name": "stdout",
     "output_type": "stream",
     "text": [
      "[1] \"País con más aplicaciones Games 4+: USA\"\n",
      "[1] \"Cantidad de aplicaciones Games 4+: 17\"\n",
      "[1] \"País con menos aplicaciones Photo & Video 4+: China\"\n",
      "[1] \"Cantidad de aplicaciones Photo & Video 4+: 1\"\n"
     ]
    }
   ],
   "source": [
    "# Tabla de contingencia paises, género y restricción\n",
    "\n",
    "tabla_cont <- table(datos$Paises, datos$género, datos$restricción)\n",
    "\n",
    "# Filtrar para Games con restricción 4+\n",
    "games_4p <- tabla_cont[, \"Games\", \"4+\"]\n",
    "\n",
    "# Filtrar para Photo & Video con restricción 4+\n",
    "phvid_4p <- tabla_cont[, \"Photo & Video\", \"4+\"]\n",
    "\n",
    "# País con más aplicaciones Games 4+\n",
    "pais_max_games <- names(which.max(games_4p))\n",
    "max_games <- max(games_4p)\n",
    "\n",
    "# Encontrar el país con menos aplicaciones Photo & Video 4+\n",
    "pais_min_photo <- names(which.min(phvid_4p))\n",
    "min_photo <- min(phvid_4p)\n",
    "\n",
    "print(paste(\"País con más aplicaciones Games 4+:\", pais_max_games))\n",
    "print(paste(\"Cantidad de aplicaciones Games 4+:\", max_games))\n",
    "print(paste(\"País con menos aplicaciones Photo & Video 4+:\", pais_min_photo))\n",
    "print(paste(\"Cantidad de aplicaciones Photo & Video 4+:\", min_photo))"
   ]
  },
  {
   "cell_type": "code",
   "execution_count": 59,
   "metadata": {
    "vscode": {
     "languageId": "r"
    }
   },
   "outputs": [
    {
     "data": {
      "text/plain": [
       ", ,  = 12+\n",
       "\n",
       "         \n",
       "          Book Business Education Entertainment Finance Food & Drink Games\n",
       "  China      0        0         0             2       0            0     0\n",
       "  Francia    0        0         0             1       0            0     1\n",
       "  Korea      0        0         0             2       0            0     3\n",
       "  USA        0        0         0             0       0            1     5\n",
       "         \n",
       "          Health & Fitness Lifestyle Medical Music Navigation News\n",
       "  China                  2         0       0     1          0    2\n",
       "  Francia                2         0       0     2          0    3\n",
       "  Korea                  0         0       0     0          0    2\n",
       "  USA                    0         1       0     0          0    2\n",
       "         \n",
       "          Photo & Video Productivity Reference Shopping Social Networking\n",
       "  China               0            0         0        0                 1\n",
       "  Francia             1            0         0        0                 0\n",
       "  Korea               0            0         0        1                 0\n",
       "  USA                 1            0         0        0                 0\n",
       "         \n",
       "          Sports Travel Utilities Weather\n",
       "  China        0      0         0       0\n",
       "  Francia      0      0         0       0\n",
       "  Korea        0      0         0       0\n",
       "  USA          0      1         0       0\n",
       "\n",
       ", ,  = 17+\n",
       "\n",
       "         \n",
       "          Book Business Education Entertainment Finance Food & Drink Games\n",
       "  China      0        0         0             0       0            0     2\n",
       "  Francia    0        0         0             0       0            0     3\n",
       "  Korea      0        0         0             0       0            0     1\n",
       "  USA        0        0         0             0       0            0     0\n",
       "         \n",
       "          Health & Fitness Lifestyle Medical Music Navigation News\n",
       "  China                  0         0       0     0          0    0\n",
       "  Francia                0         1       0     0          0    1\n",
       "  Korea                  0         1       0     0          0    0\n",
       "  USA                    0         0       0     0          0    2\n",
       "         \n",
       "          Photo & Video Productivity Reference Shopping Social Networking\n",
       "  China               0            0         0        0                 0\n",
       "  Francia             0            0         0        0                 1\n",
       "  Korea               0            0         0        0                 2\n",
       "  USA                 0            0         0        0                 1\n",
       "         \n",
       "          Sports Travel Utilities Weather\n",
       "  China        0      0         0       1\n",
       "  Francia      0      0         0       0\n",
       "  Korea        5      0         0       0\n",
       "  USA          0      0         2       0\n",
       "\n",
       ", ,  = 4+\n",
       "\n",
       "         \n",
       "          Book Business Education Entertainment Finance Food & Drink Games\n",
       "  China      0        1         2             7       2            0     8\n",
       "  Francia    0        0         1             2       0            3     4\n",
       "  Korea      1        3         7             0       5            0    14\n",
       "  USA        0        1         0             3       2            1    17\n",
       "         \n",
       "          Health & Fitness Lifestyle Medical Music Navigation News\n",
       "  China                  1         0       1     0          3    0\n",
       "  Francia                3         3       0     2          0    0\n",
       "  Korea                  7         1       0     3          4    0\n",
       "  USA                    2         1       0     2          0    0\n",
       "         \n",
       "          Photo & Video Productivity Reference Shopping Social Networking\n",
       "  China               1            2         1        1                 1\n",
       "  Francia             1            0         1        1                 0\n",
       "  Korea               6            5         2        3                 1\n",
       "  USA                 2            1         0        3                 1\n",
       "         \n",
       "          Sports Travel Utilities Weather\n",
       "  China        1      0         2       0\n",
       "  Francia      1      2         0       1\n",
       "  Korea        2      5         3       5\n",
       "  USA          3      0         1       0\n",
       "\n",
       ", ,  = 9+\n",
       "\n",
       "         \n",
       "          Book Business Education Entertainment Finance Food & Drink Games\n",
       "  China      0        0         0             0       0            0     0\n",
       "  Francia    0        0         0             1       0            0     1\n",
       "  Korea      1        0         0             1       0            0     3\n",
       "  USA        0        0         0             2       0            0     3\n",
       "         \n",
       "          Health & Fitness Lifestyle Medical Music Navigation News\n",
       "  China                  0         0       0     0          0    0\n",
       "  Francia                0         0       0     0          0    0\n",
       "  Korea                  0         0       0     1          0    0\n",
       "  USA                    0         0       0     0          0    0\n",
       "         \n",
       "          Photo & Video Productivity Reference Shopping Social Networking\n",
       "  China               0            0         1        0                 0\n",
       "  Francia             0            0         0        0                 0\n",
       "  Korea               0            0         0        0                 0\n",
       "  USA                 0            0         0        0                 0\n",
       "         \n",
       "          Sports Travel Utilities Weather\n",
       "  China        0      0         0       0\n",
       "  Francia      0      0         0       0\n",
       "  Korea        0      0         0       0\n",
       "  USA          0      0         0       0\n"
      ]
     },
     "metadata": {},
     "output_type": "display_data"
    }
   ],
   "source": [
    "tabla_cont"
   ]
  },
  {
   "cell_type": "code",
   "execution_count": null,
   "metadata": {
    "vscode": {
     "languageId": "r"
    }
   },
   "outputs": [],
   "source": []
  }
 ],
 "metadata": {
  "kernelspec": {
   "display_name": "R",
   "language": "R",
   "name": "ir"
  },
  "language_info": {
   "codemirror_mode": "r",
   "file_extension": ".r",
   "mimetype": "text/x-r-source",
   "name": "R",
   "pygments_lexer": "r",
   "version": "4.1.2"
  }
 },
 "nbformat": 4,
 "nbformat_minor": 2
}
