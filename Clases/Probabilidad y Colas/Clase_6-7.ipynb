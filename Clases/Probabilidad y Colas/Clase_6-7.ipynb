{
 "cells": [
  {
   "cell_type": "markdown",
   "metadata": {},
   "source": [
    "# **Clase 6 y 7 Int R**\n",
    "\n",
    "**_Autor:_** Isaac Mesa Gómez\n",
    "\n",
    "**_Fecha:_** \n",
    "Agosto 21, 2024\n",
    "\n",
    "---\n",
    "\n",
    "Clase guía introductoria a R"
   ]
  },
  {
   "cell_type": "markdown",
   "metadata": {},
   "source": [
    "El simbolo $ Lista las variables que puedo usar"
   ]
  },
  {
   "cell_type": "code",
   "execution_count": 1,
   "metadata": {
    "vscode": {
     "languageId": "r"
    }
   },
   "outputs": [],
   "source": [
    "library(\"readxl\")\n",
    "ru  <- \"/home/isaacmgz/Dropbox/Universidad/Notas_Universidad/files/DatosG1.xlsx\"\n",
    "my_data  <- read_excel(ru)"
   ]
  },
  {
   "cell_type": "code",
   "execution_count": 12,
   "metadata": {
    "vscode": {
     "languageId": "r"
    }
   },
   "outputs": [
    {
     "data": {
      "text/html": [
       "<style>\n",
       ".list-inline {list-style: none; margin:0; padding: 0}\n",
       ".list-inline>li {display: inline-block}\n",
       ".list-inline>li:not(:last-child)::after {content: \"\\00b7\"; padding: 0 .5ex}\n",
       "</style>\n",
       "<ol class=list-inline><li>'Liga'</li><li>'Temporada'</li><li>'Escenario'</li><li>'Nombre'</li><li>'Nombre Equipo'</li><li>'Juegos jugados'</li><li>'Minutos jugados'</li><li>'Número de Cestas'</li><li>'Intento de Cestas'</li><li>'Cesta tres puntos'</li><li>'Tiros libres realizados'</li><li>'Mes nacimiento'</li><li>'País Nacimiento'</li></ol>\n"
      ],
      "text/latex": [
       "\\begin{enumerate*}\n",
       "\\item 'Liga'\n",
       "\\item 'Temporada'\n",
       "\\item 'Escenario'\n",
       "\\item 'Nombre'\n",
       "\\item 'Nombre Equipo'\n",
       "\\item 'Juegos jugados'\n",
       "\\item 'Minutos jugados'\n",
       "\\item 'Número de Cestas'\n",
       "\\item 'Intento de Cestas'\n",
       "\\item 'Cesta tres puntos'\n",
       "\\item 'Tiros libres realizados'\n",
       "\\item 'Mes nacimiento'\n",
       "\\item 'País Nacimiento'\n",
       "\\end{enumerate*}\n"
      ],
      "text/markdown": [
       "1. 'Liga'\n",
       "2. 'Temporada'\n",
       "3. 'Escenario'\n",
       "4. 'Nombre'\n",
       "5. 'Nombre Equipo'\n",
       "6. 'Juegos jugados'\n",
       "7. 'Minutos jugados'\n",
       "8. 'Número de Cestas'\n",
       "9. 'Intento de Cestas'\n",
       "10. 'Cesta tres puntos'\n",
       "11. 'Tiros libres realizados'\n",
       "12. 'Mes nacimiento'\n",
       "13. 'País Nacimiento'\n",
       "\n",
       "\n"
      ],
      "text/plain": [
       " [1] \"Liga\"                    \"Temporada\"              \n",
       " [3] \"Escenario\"               \"Nombre\"                 \n",
       " [5] \"Nombre Equipo\"           \"Juegos jugados\"         \n",
       " [7] \"Minutos jugados\"         \"Número de Cestas\"       \n",
       " [9] \"Intento de Cestas\"       \"Cesta tres puntos\"      \n",
       "[11] \"Tiros libres realizados\" \"Mes nacimiento\"         \n",
       "[13] \"País Nacimiento\"        "
      ]
     },
     "metadata": {},
     "output_type": "display_data"
    }
   ],
   "source": [
    "names(my_data)"
   ]
  },
  {
   "cell_type": "code",
   "execution_count": 2,
   "metadata": {
    "vscode": {
     "languageId": "r"
    }
   },
   "outputs": [],
   "source": [
    "#tabla de frecuencias para datos simples\n",
    "tdfs <- function(Variable){# Los datos deben de estar guardados en un vector\n",
    "  tabla1 <- as.data.frame(table(Variable))\n",
    "  tabla1 <- transform(tabla1, Ni = cumsum(Freq), fi = round(prop.table(Freq), 4))\n",
    "  tabla1 <- transform(tabla1, Fi = cumsum(fi))\n",
    "  tabla1\n",
    "}"
   ]
  },
  {
   "cell_type": "code",
   "execution_count": 17,
   "metadata": {
    "vscode": {
     "languageId": "r"
    }
   },
   "outputs": [
    {
     "data": {
      "text/html": [
       "<table class=\"dataframe\">\n",
       "<caption>A data.frame: 4 × 5</caption>\n",
       "<thead>\n",
       "\t<tr><th scope=col>Variable</th><th scope=col>Freq</th><th scope=col>Ni</th><th scope=col>fi</th><th scope=col>Fi</th></tr>\n",
       "\t<tr><th scope=col>&lt;fct&gt;</th><th scope=col>&lt;int&gt;</th><th scope=col>&lt;int&gt;</th><th scope=col>&lt;dbl&gt;</th><th scope=col>&lt;dbl&gt;</th></tr>\n",
       "</thead>\n",
       "<tbody>\n",
       "\t<tr><td>1999 - 2000</td><td> 19</td><td> 19</td><td>0.0609</td><td>0.0609</td></tr>\n",
       "\t<tr><td>2000 - 2001</td><td> 65</td><td> 84</td><td>0.2083</td><td>0.2692</td></tr>\n",
       "\t<tr><td>2002 - 2003</td><td> 66</td><td>150</td><td>0.2115</td><td>0.4807</td></tr>\n",
       "\t<tr><td>2003 - 2004</td><td>162</td><td>312</td><td>0.5192</td><td>0.9999</td></tr>\n",
       "</tbody>\n",
       "</table>\n"
      ],
      "text/latex": [
       "A data.frame: 4 × 5\n",
       "\\begin{tabular}{lllll}\n",
       " Variable & Freq & Ni & fi & Fi\\\\\n",
       " <fct> & <int> & <int> & <dbl> & <dbl>\\\\\n",
       "\\hline\n",
       "\t 1999 - 2000 &  19 &  19 & 0.0609 & 0.0609\\\\\n",
       "\t 2000 - 2001 &  65 &  84 & 0.2083 & 0.2692\\\\\n",
       "\t 2002 - 2003 &  66 & 150 & 0.2115 & 0.4807\\\\\n",
       "\t 2003 - 2004 & 162 & 312 & 0.5192 & 0.9999\\\\\n",
       "\\end{tabular}\n"
      ],
      "text/markdown": [
       "\n",
       "A data.frame: 4 × 5\n",
       "\n",
       "| Variable &lt;fct&gt; | Freq &lt;int&gt; | Ni &lt;int&gt; | fi &lt;dbl&gt; | Fi &lt;dbl&gt; |\n",
       "|---|---|---|---|---|\n",
       "| 1999 - 2000 |  19 |  19 | 0.0609 | 0.0609 |\n",
       "| 2000 - 2001 |  65 |  84 | 0.2083 | 0.2692 |\n",
       "| 2002 - 2003 |  66 | 150 | 0.2115 | 0.4807 |\n",
       "| 2003 - 2004 | 162 | 312 | 0.5192 | 0.9999 |\n",
       "\n"
      ],
      "text/plain": [
       "  Variable    Freq Ni  fi     Fi    \n",
       "1 1999 - 2000  19   19 0.0609 0.0609\n",
       "2 2000 - 2001  65   84 0.2083 0.2692\n",
       "3 2002 - 2003  66  150 0.2115 0.4807\n",
       "4 2003 - 2004 162  312 0.5192 0.9999"
      ]
     },
     "metadata": {},
     "output_type": "display_data"
    }
   ],
   "source": [
    "tdfs(my_data[2])"
   ]
  },
  {
   "cell_type": "code",
   "execution_count": null,
   "metadata": {
    "vscode": {
     "languageId": "r"
    }
   },
   "outputs": [],
   "source": [
    "barplot(table(my_data$Temporada)/length(my_data$Temporada), xlab='Temporada', \n",
    "        main='Gráfico de barras', las=1, col='orchid1', border=c(1, \"blue\"), density = c(10, 30, 50, 250))"
   ]
  },
  {
   "cell_type": "markdown",
   "metadata": {},
   "source": [
    "Varianza y desviación estandar y coef de variación"
   ]
  },
  {
   "cell_type": "code",
   "execution_count": 4,
   "metadata": {
    "vscode": {
     "languageId": "r"
    }
   },
   "outputs": [
    {
     "data": {
      "text/html": [
       "47214.7298932311"
      ],
      "text/latex": [
       "47214.7298932311"
      ],
      "text/markdown": [
       "47214.7298932311"
      ],
      "text/plain": [
       "[1] 47214.73"
      ]
     },
     "metadata": {},
     "output_type": "display_data"
    }
   ],
   "source": [
    "var(my_data$`Número de Cestas`)"
   ]
  },
  {
   "cell_type": "code",
   "execution_count": 5,
   "metadata": {
    "vscode": {
     "languageId": "r"
    }
   },
   "outputs": [
    {
     "data": {
      "text/html": [
       "217.289507094179"
      ],
      "text/latex": [
       "217.289507094179"
      ],
      "text/markdown": [
       "217.289507094179"
      ],
      "text/plain": [
       "[1] 217.2895"
      ]
     },
     "metadata": {},
     "output_type": "display_data"
    }
   ],
   "source": [
    "sd(my_data$`Número de Cestas`)"
   ]
  },
  {
   "cell_type": "code",
   "execution_count": 7,
   "metadata": {
    "vscode": {
     "languageId": "r"
    }
   },
   "outputs": [],
   "source": [
    "cv <- sd(my_data$`Número de Cestas`)/mean(my_data$`Número de Cestas`)   "
   ]
  },
  {
   "cell_type": "code",
   "execution_count": 8,
   "metadata": {
    "vscode": {
     "languageId": "r"
    }
   },
   "outputs": [
    {
     "data": {
      "text/html": [
       "<style>\n",
       ".dl-inline {width: auto; margin:0; padding: 0}\n",
       ".dl-inline>dt, .dl-inline>dd {float: none; width: auto; display: inline-block}\n",
       ".dl-inline>dt::after {content: \":\\0020\"; padding-right: .5ex}\n",
       ".dl-inline>dt:not(:first-of-type) {padding-left: .5ex}\n",
       "</style><dl class=dl-inline><dt>25%</dt><dd>46</dd><dt>75%</dt><dd>125.25</dd></dl>\n"
      ],
      "text/latex": [
       "\\begin{description*}\n",
       "\\item[25\\textbackslash{}\\%] 46\n",
       "\\item[75\\textbackslash{}\\%] 125.25\n",
       "\\end{description*}\n"
      ],
      "text/markdown": [
       "25%\n",
       ":   4675%\n",
       ":   125.25\n",
       "\n"
      ],
      "text/plain": [
       "   25%    75% \n",
       " 46.00 125.25 "
      ]
     },
     "metadata": {},
     "output_type": "display_data"
    }
   ],
   "source": [
    "quantile(my_data$`Número de Cestas`, c(0.25, 0.75))"
   ]
  },
  {
   "cell_type": "code",
   "execution_count": 9,
   "metadata": {
    "vscode": {
     "languageId": "r"
    }
   },
   "outputs": [
    {
     "data": {
      "image/png": "[encoded data removed]",
      "text/plain": [
       "plot without title"
      ]
     },
     "metadata": {
      "image/png": {
       "height": 420,
       "width": 420
      }
     },
     "output_type": "display_data"
    }
   ],
   "source": [
    "boxplot(my_data$`Número de Cestas`, horizontal = TRUE, col = 'orchid1', border = 'blue', notch = TRUE)"
   ]
  },
  {
   "cell_type": "code",
   "execution_count": null,
   "metadata": {
    "vscode": {
     "languageId": "r"
    }
   },
   "outputs": [],
   "source": []
  }
 ],
 "metadata": {
  "kernelspec": {
   "display_name": "R",
   "language": "R",
   "name": "ir"
  },
  "language_info": {
   "codemirror_mode": "r",
   "file_extension": ".r",
   "mimetype": "text/x-r-source",
   "name": "R",
   "pygments_lexer": "r",
   "version": "4.1.2"
  }
 },
 "nbformat": 4,
 "nbformat_minor": 2
}
