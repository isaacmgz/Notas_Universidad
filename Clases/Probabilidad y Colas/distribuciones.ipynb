{
 "cells": [
  {
   "cell_type": "markdown",
   "metadata": {},
   "source": [
    "# **distribuciones**\n",
    "\n",
    "**_Autor:_** Isaac Mesa Gómez\n",
    "\n",
    "**_Clase:_** Probabilidad y Colas\n",
    "\n",
    "**_Fecha:_** Septiembre 29, 2024\n",
    "\n",
    "---\n",
    "\n",
    "Código utilizado en la clase Probabilidad y Colas para el día Septiembre 29, 2024\n",
    "\n",
    "<strong style='color:#ec5252;'><em>Nota:</em></strong> Las densidades de probabilidad se acumulan por la izquierda $$P(X>k) = 1 - P(X<k)$$ $$P(K_1 < X < K_2) = P(K_2) - P(K_1)$$\n",
    "\n",
    "<strong style='color:#ec5252;'><em>Nota 2:</em></strong> CUando se hablen de __distribución de probabilidad__ pensar en tablas con los valores "
   ]
  },
  {
   "cell_type": "markdown",
   "metadata": {},
   "source": [
    "### ☁️ Distribución Binomial"
   ]
  },
  {
   "cell_type": "markdown",
   "metadata": {},
   "source": [
    "- Función de densidad (masa de probabilidad): `dbinom(x, size, prob)`\n",
    "- Función de distribución acumulada: `pbinom(q, size, prob)`\n",
    "- Función cuantil: `qbinom(p, size, prob)`\n",
    "- Generación de números aleatorios: `rbinom(n, size, prob)`\n",
    "\n",
    "Para identificar si un problema tiene una distribución binomial, es necesario verificar si cumple con las siguientes características:\n",
    "\n",
    "__1.__ __Número fijo de ensayos__: El experimento se realiza un número determinado de veces, __n__, que es constante.\n",
    "\n",
    "__2.__ __Dos resultados posibles__: Cada ensayo tiene solo dos resultados posibles, que generalmente se etiquetan como éxito o fracaso.\n",
    "\n",
    "__3.__ __Probabilidad constante__: La probabilidad de éxito, __p__, es la misma en cada ensayo, al igual que la probabilidad de fracaso, __q=1−p__.\n",
    "\n",
    "__4.__ __Ensayos independientes__: Los resultados de un ensayo no afectan a los resultados de los otros ensayos; es decir, los ensayos son independientes entre sí.\n",
    "\n",
    "La función de probabilidad es: $$P(X = k) = \\binom{n}{k} p^k (1 - p)^{n - k}$$\n",
    "\n",
    "donde: \n",
    "\n",
    "- $P(X = k):$ Probabilidad de obtener exactamente  k éxitos en  n ensayos.\n",
    "- $\\binom{n}{k}:$ Coeficiente binomial, calculado como  \\frac{n!}{k!(n-k)!}, que representa el número de formas de elegir  k éxitos en  n ensayos.\n",
    "- $n$: Número total de ensayos o repeticiones del experimento.\n",
    "- $k$: Número de éxitos deseados en los  n ensayos.\n",
    "- $p$: Probabilidad de éxito en un solo ensayo.\n",
    "- $(1 - p)$: Probabilidad de fracaso en un solo ensayo.\n",
    "\n",
    "<strong style='color:#ec5252;'><em>Nota:</em></strong> Media y varianza: $$\\mu = n p \\\\ \\sigma^2 = n p (1 - p)$$"
   ]
  },
  {
   "cell_type": "markdown",
   "metadata": {},
   "source": [
    "### ☁️ Distribución de Poisson"
   ]
  },
  {
   "cell_type": "markdown",
   "metadata": {},
   "source": [
    "- Función de densidad (masa de probabilidad): `dpois(x, lambda)`\n",
    "- Función de distribución acumulada: `ppois(q, lambda)`\n",
    "- Función cuantil: `qpois(p, lambda)`\n",
    "- Generación de números aleatorios: `rpois(n, lambda)`\n",
    "\n",
    "<strong style='color:#ec5252;'><em>Nota:</em></strong> Poner cuidado con el $\\lambda$, en `R` escribir $ \\lambda = \\lambda * t$\n",
    "\n",
    "<strong style='color:#ec5252;'><em>Nota 2:</em></strong> Cuando se hablan de Poisson, siempre acumular por izquierda \n",
    "\n",
    "Un problema tiene una distribución de Poisson si cumple con las siguientes características clave:\n",
    "\n",
    "__1.__ __Número de eventos en un intervalo__: La distribución de Poisson modela el número de veces que ocurre un evento en un intervalo de tiempo, espacio o cualquier otra dimensión continua. El intervalo puede ser tiempo, distancia, área, etc.\n",
    "\n",
    "__2.__ __Eventos independientes__: Los eventos deben ser independientes entre sí; es decir, la ocurrencia de un evento no afecta la ocurrencia de otros eventos.\n",
    "\n",
    "__3.__ __Tasa de ocurrencia constante__: La tasa a la que ocurren los eventos es constante en el intervalo considerado. Esta tasa se denota como λ (media de eventos por unidad de tiempo, espacio, etc.).\n",
    "\n",
    "__4.__ __Eventos raros__: La probabilidad de que dos o más eventos ocurran simultáneamente es muy pequeña o despreciable.\n",
    "\n",
    "La función de probabilidad es: $$P(X = k) = \\frac{\\lambda^k e^{-\\lambda}}{k!}$$\n",
    "\n",
    "Y donde: \n",
    "\n",
    "$P(X = k) = \\frac{\\lambda^k e^{-\\lambda}}{k!}$\n",
    "\n",
    "- $P(X = k)$: Probabilidad de observar exactamente $k$ eventos en un intervalo.\n",
    "- $\\lambda$: Tasa media de ocurrencia de eventos por unidad de tiempo, espacio, u otra dimensión.\n",
    "- $k$: Número de eventos observados en el intervalo.\n",
    "- $e$: Constante de Euler, aproximadamente $2.71828$.\n",
    "- $k!$: Factorial de $k$, es decir, el producto de todos los enteros positivos desde 1 hasta $k$.\n",
    "\n",
    "<strong style='color:#ec5252;'><em>Nota:</em></strong> Media y varianza: $$\\mu = \\lambda \\\\\n",
    "\\sigma^2 = \\lambda$$"
   ]
  },
  {
   "cell_type": "markdown",
   "metadata": {},
   "source": [
    "### ☁️ Distribución Hipergeométrica"
   ]
  },
  {
   "cell_type": "markdown",
   "metadata": {},
   "source": [
    "- Función de densidad (masa de probabilidad): `dhyper(x, m, n, k)`\n",
    "- Función de distribución acumulada: `phyper(q, m, n, k)`\n",
    "- Función cuantil: `qhyper(p, m, n, k)`\n",
    "- Generación de números aleatorios: `rhyper(nn, m, n, k)`\n",
    "\n",
    "Un problema tiene una distribución hipergeométrica si cumple con las siguientes características:\n",
    "\n",
    "__1.__ __Población finita__: El problema involucra una población finita de tamaño $N$, en la cual hay dos tipos de elementos: éxitos y fracasos.\n",
    "\n",
    "__2.__ __Número fijo de éxitos en la población__: Hay un número fijo $K$ de elementos que son considerados \"éxitos\" en la población, mientras que los restantes $N−K$ son \"fracasos\".\n",
    "\n",
    "__3.__ __Muestreo sin reemplazo__: Se selecciona una muestra de tamaño n de la población sin reemplazar los elementos, lo que significa que cada elemento seleccionado afecta las probabilidades futuras.\n",
    "\n",
    "__4.__ __Éxitos en la muestra__: El problema se centra en encontrar la probabilidad de obtener exactamente $k$ éxitos en la muestra de tamaño $n$.\n",
    "\n",
    "\n",
    "La función de probabilidad es: $$P(X = k) = \\frac{\\binom{K}{k} \\binom{N - K}{n - k}}{\\binom{N}{n}}$$\n",
    "\n",
    "- $P(X = k)$: Probabilidad de obtener exactamente $k$ éxitos en una muestra de tamaño $n$.\n",
    "- $\\binom{K}{k}$: Número de formas de elegir $k$ éxitos de una población de $K$ elementos exitosos.\n",
    "- $\\binom{N - K}{n - k}$: Número de formas de elegir $n - k$ fracasos de los $N - K$ elementos fracasados.\n",
    "- $\\binom{N}{n}$: Número total de formas de elegir $n$ elementos de una población de tamaño $N$.\n",
    "- $N$: Tamaño total de la población.\n",
    "- $K$: Número total de elementos exitosos en la población.\n",
    "- $n$: Tamaño de la muestra.\n",
    "- $k$: Número de éxitos en la muestra.\n",
    "\n",
    "<strong style='color:#ec5252;'><em>Nota:</em></strong> Media y varianza: $$\\mu = \\frac{n K}{N} \\\\\n",
    "\\sigma^2 = \\frac{n K (N - K) (N - n)}{N^2 (N - 1)}$$"
   ]
  },
  {
   "cell_type": "markdown",
   "metadata": {},
   "source": [
    "### ☁️ Distribución Normal (Y estandar):"
   ]
  },
  {
   "cell_type": "markdown",
   "metadata": {},
   "source": [
    "- Función de densidad: `dnorm(x, mean, sd)`\n",
    "- Función de distribución acumulada: `pnorm(q, mean, sd)`\n",
    "- Función cuantil: `qnorm(p, mean, sd)`\n",
    "- Generación de números aleatorios: `rnorm(n, mean, sd)`\n",
    "\n",
    "<strong style='color:#ec5252;'><em>Nota:</em></strong>  La Distribución Normal Estándar es un caso especial de la distribución normal con media = 0 y desviación estándar = 1\n",
    "\n",
    "La función de probabilidad es: $$f(x) = \\frac{1}{\\sigma \\sqrt{2\\pi}} e^{-\\frac{1}{2} \\left( \\frac{x - \\mu}{\\sigma} \\right)^2}$$\n",
    "\n",
    "- $f(x)$: Función de densidad de probabilidad para el valor $x$.\n",
    "- $\\mu$: Media de la distribución (centro de la curva).\n",
    "- $\\sigma$: Desviación estándar de la distribución (controla el ancho de la curva).\n",
    "- $e$: Constante de Euler, aproximadamente $2.71828$.\n",
    "- $\\pi$: Constante pi, aproximadamente $3.14159$."
   ]
  },
  {
   "cell_type": "markdown",
   "metadata": {},
   "source": [
    "### ☁️ Distribución Exponencial:"
   ]
  },
  {
   "cell_type": "markdown",
   "metadata": {},
   "source": [
    "- Función de densidad: `dexp(x, rate)`\n",
    "- Función de distribución acumulada: `pexp(q, rate)`\n",
    "- Función cuantil: `qexp(p, rate)`\n",
    "- Generación de números aleatorios: `rexp(n, rate)`\n",
    "\n",
    "Función de probabilidad: $$f(t) = \\lambda e^{-\\lambda t}, \\quad t \\geq 0$$\n",
    "\n",
    "- $f(t)$: Función de densidad de probabilidad para el tiempo $t$.\n",
    "- $\\lambda$: Tasa de ocurrencia de eventos por unidad de tiempo, donde $\\lambda > 0$.\n",
    "- $e$: Constante de Euler, aproximadamente $2.71828$.\n",
    "\n",
    "La probabilidad de que no ocurra un evento en un intervalo de tiempo: $$P(T > t) = e^{-\\lambda t}$$\n",
    "\n",
    "- $P(T > t)$: Probabilidad de que el evento no ocurra en el intervalo de tiempo $t$.\n",
    "- $T$: Variable aleatoria que representa el tiempo hasta que ocurre el evento.\n",
    "\n",
    "<strong style='color:#ec5252;'><em>Nota:</em></strong> Media y varianza: $$\\mu = \\frac{1}{\\lambda} \\\\\n",
    "\\sigma^2 = \\frac{1}{\\lambda^2}$$"
   ]
  },
  {
   "cell_type": "markdown",
   "metadata": {},
   "source": [
    "### ☁️ Distribución Uniforme"
   ]
  },
  {
   "cell_type": "markdown",
   "metadata": {},
   "source": [
    "- Función de densidad: `dunif(x, min, max)`\n",
    "- Función de distribución acumulada: `punif(q, min, max)`\n",
    "- Función cuantil: `qunif(p, min, max)`\n",
    "- Generación de números aleatorios: `runif(n, min, max)`\n",
    "\n",
    "\n",
    "$$f(x) = \\begin{cases} \n",
    "\\frac{1}{b - a} & \\text{si } a \\leq x \\leq b \\\\\n",
    "0 & \\text{en otro caso}\n",
    "\\end{cases}$$\n",
    "\n",
    "- $f(x)$: Función de densidad de probabilidad para el valor $x$.\n",
    "- $a$: Límite inferior de la distribución (mínimo).\n",
    "- $b$: Límite superior de la distribución (máximo).\n",
    "- $b - a$: Ancho del intervalo sobre el cual la variable aleatoria es uniforme.\n",
    "\n",
    "$P(X \\leq x) = \\frac{x - a}{b - a}$, para $a \\leq x \\leq b$\n",
    "\n",
    "- $P(X \\leq x)$: Probabilidad de que la variable aleatoria $X$ tome un valor menor o igual a $x$.\n",
    "\n",
    "<strong style='color:#ec5252;'><em>Nota:</em></strong> Media y varianza: $$\\mu = \\frac{a + b}{2} \\\\\n",
    "\\sigma^2 = \\frac{(b - a)^2}{12}$$"
   ]
  },
  {
   "cell_type": "markdown",
   "metadata": {},
   "source": [
    "### ☁️ <strong style='color:#ec5252;'><em>Aproximaciones de Distribuciones:</em></strong>"
   ]
  },
  {
   "cell_type": "markdown",
   "metadata": {},
   "source": [
    "### Aproximación Binom por medio de una Poisson"
   ]
  },
  {
   "cell_type": "markdown",
   "metadata": {},
   "source": [
    "La aproximación de una distribución binomial a una distribución de Poisson es una técnica útil en estadística cuando se cumplen ciertas condiciones.\n",
    "\n",
    "Condiciones para la aproximación:\n",
    "\n",
    "1. El número de ensayos (_n_) es grande, generalmente _n_ > 20.\n",
    "2. La probabilidad de éxito (_p_) en cada ensayo es pequeña, típicamente _p_ < 0.05.\n",
    "3. El producto _np_ (que es la media de la distribución binomial) es moderado, usualmente _np_ < 10.\n",
    "\n",
    "<strong style='color:#ec5252;'><em>Nota:</em></strong> En esta asociación hay que tener presente que $ \\lambda = np$ ya que se asocia el promedio más directamente"
   ]
  },
  {
   "cell_type": "markdown",
   "metadata": {},
   "source": []
  },
  {
   "cell_type": "markdown",
   "metadata": {},
   "source": []
  }
 ],
 "metadata": {
  "kernelspec": {
   "display_name": "R",
   "language": "R",
   "name": "ir"
  },
  "language_info": {
   "name": "R"
  }
 },
 "nbformat": 4,
 "nbformat_minor": 2
}
