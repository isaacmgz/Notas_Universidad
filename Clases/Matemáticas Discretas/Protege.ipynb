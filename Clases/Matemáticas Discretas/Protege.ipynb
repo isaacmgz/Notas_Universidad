{
 "cells": [
  {
   "cell_type": "markdown",
   "metadata": {},
   "source": [
    "# **Protégé**\n",
    "\n",
    "**_Autor:_** Isaac Mesa Gómez\n",
    "\n",
    "**_Fecha:_** \n",
    "Septiembre 19, 2024\n",
    "\n",
    "**_Documentación_** [Protégé docs]([URL](https://protegeproject.github.io/protege/)) [Primera Ontología](https://protege.stanford.edu/publications/ontology_development/ontology101.pdf)\n",
    "\n",
    "---\n",
    "\n",
    "Protégé es una herramienta de software de código abierto utilizada para crear, editar y gestionar ontologías. Es ampliamente utilizada en la comunidad de la web semántica, la inteligencia artificial y la bioinformática para desarrollar representaciones formales del conocimiento en dominios específicos. \n",
    "\n",
    "<strong style='color:#ec5252;'><em>Nota:</em></strong> Guardar los archivos como OWL/XML"
   ]
  },
  {
   "cell_type": "markdown",
   "metadata": {},
   "source": [
    "### ☁️ Glosario y términos"
   ]
  },
  {
   "cell_type": "markdown",
   "metadata": {},
   "source": [
    "<details>\n",
    "  <summary><b>Glosario</b></summary>\n",
    "\n",
    "  - __Ontología:__  una ontología es una representación formal de un conjunto de conceptos y las relaciones entre ellos dentro de un dominio específico.\n",
    "   - <strong style='color:#ec5252;'><em>Nota:</em></strong> Se utiliza para estructurar el conocimiento de manera que las máquinas puedan entender y procesar la información.\n",
    "  \n",
    "  - __OWL (Web Ontology Language):__ OWL es un lenguaje diseñado para representar ontologías en la web. OWL forma parte de la iniciativa de la Web Semántica y permite la creación de ontologías que pueden ser comprendidas tanto por humanos como por máquinas.\n",
    "    - Uso de OWL:\n",
    "      - Definir conceptos (clases), relaciones (propiedades) y restricciones en un dominio específico.\n",
    "      - Facilitar la interoperabilidad entre sistemas mediante un vocabulario compartido.\n",
    "      - Implementar razonadores para realizar inferencias automáticas sobre el conocimiento.\n",
    "  \n",
    "  - __URI (Uniform Resource Identifier):__ es un concepto más grande pero en este contexto se utiliza para identificar de manera única los elementos definidos en la ontología, como las clases, las propiedades y los individuos. Los URIs juegan un papel crucial para garantizar que los términos y conceptos utilizados en una ontología sean globalmente únicos y accesibles.\n",
    "    - <span style=\"color: #1073c5;\">Por ejemplo</span> http://ejemplo.org/ontologia#Perro, lo que sugiere que en el dominio example.com existe una ontología con un concepto de \"Persona\".\n",
    "\n",
    " \n",
    "\n",
    "</details>"
   ]
  },
  {
   "cell_type": "markdown",
   "metadata": {},
   "source": [
    "### ☁️ Ontología"
   ]
  },
  {
   "cell_type": "markdown",
   "metadata": {},
   "source": [
    "<details>\n",
    "  <summary><b>Características</b></summary>\n",
    "\n",
    "  Las ontologías se basan en un vocabulario común que describe conceptos y relaciones de manera estándar, permitiendo así la interoperabilidad entre diferentes sistemas y aplicaciones.\n",
    "\n",
    "  - Clases: Representan conceptos o categorías del dominio.\n",
    "  - Propiedades: Atributos o características de las clases.\n",
    "  - Relaciones: Definen cómo se conectan o interactúan las clases entre sí.\n",
    "  - Instancias: Ejemplos específicos de las clases.\n",
    "  - Restricciones: Limitaciones o condiciones sobre las propiedades y relaciones.\n",
    "\n",
    "</details>"
   ]
  },
  {
   "cell_type": "markdown",
   "metadata": {},
   "source": [
    "### ☁️ Protegé"
   ]
  },
  {
   "cell_type": "markdown",
   "metadata": {},
   "source": [
    "<details>\n",
    "  <summary><b>Funcionalidades</b></summary>\n",
    "\n",
    "  __Funcionalidades clave de Protégé:__\n",
    "  \n",
    "  - Editor de ontologías: Permite a los usuarios definir clases, propiedades, relaciones y restricciones de manera visual y estructurada.\n",
    "  \n",
    "  - Compatibilidad con OWL y RDF: Protégé soporta la creación de ontologías utilizando lenguajes estándar como OWL y RDF, lo que facilita la interoperabilidad con otros sistemas que siguen estos estándares.\n",
    "  \n",
    "  - Soporte para razonadores: Protégé puede integrarse con motores de inferencia (razonadores), como HermiT o Pellet, para ejecutar razonamientos automáticos, como la verificación de consistencia o la clasificación de clases en la ontología.\n",
    "  \n",
    "  - Interfaz gráfica de usuario: Facilita el desarrollo de ontologías mediante una interfaz gráfica amigable que permite la creación y visualización de los elementos de la ontología (clases, propiedades, individuos).\n",
    "  \n",
    "  - Extensible: Protégé admite complementos (plugins) que permiten agregar nuevas funcionalidades, como razonadores adicionales o capacidades específicas para ciertos dominios.\n",
    "</details>"
   ]
  },
  {
   "cell_type": "markdown",
   "metadata": {},
   "source": [
    "<details>\n",
    "  <summary><b>Class</b></summary>\n",
    "\n",
    "  Las clases son el pilar básico de la estructura de la ontología. Definen conjuntos de individuos (o instancias) que tienen características comunes. <span style=\"color: #1073c5;\">Por ejemplo</span>, en una ontología sobre animales, puedes tener una clase llamada \"Mamífero\" que agrupa a todos los animales que tienen características de mamíferos.\n",
    "\n",
    "  <strong style='color:#ec5252;'><em>Nota:</em></strong> Para determinar subclases nos preguntamos ¿Es x un i? por ejemplo de la subclase enfermedad ¿Es la enfermedad un paciente? Si la respuesta es No, entonces no es una subclase\n",
    "\n",
    "  <span style=\"color: #1073c5;\">Por ejemplo</span> visualmente una de jerarquía de clases se vería algo como:\n",
    "\n",
    "  - Vehículo\n",
    "    - Carro\n",
    "      - Deportivo\n",
    "    - Bicicleta\n",
    "    - Motocicleta\n",
    "\n",
    "\n",
    "</details>"
   ]
  },
  {
   "cell_type": "markdown",
   "metadata": {},
   "source": [
    "<details>\n",
    "  <summary><b>DataProperty</b></summary>\n",
    "\n",
    "  Una DataProperty (o propiedad de datos) es un tipo de propiedad que se utiliza para asociar una clase o un individuo con un valor de dato concreto. Los valores de una DataProperty suelen ser literales, como números, cadenas de texto, fechas o valores booleanos.\n",
    "\n",
    "  <details>\n",
    "   <summary><span style=\"color: #1073c5;\">Ejemplo en Protégé</span></summary>\n",
    "   \n",
    "   Si tienes un individuo de la clase \"__Persona__\" llamado _Juan_, podrías asignar las siguientes __DataProperties__:\n",
    " \n",
    "   - _Juan_ tiene una nombre con el valor \"_Juan_ Pérez\" (de tipo xsd:string).\n",
    "   - _Juan_ tiene una edad de 30 (de tipo xsd:integer).\n",
    "   - _Juan_ tiene una altura de 1.75 (de tipo xsd:float)\n",
    "  \n",
    "  </details> \n",
    "  \n",
    "\n",
    "</details>"
   ]
  },
  {
   "cell_type": "markdown",
   "metadata": {},
   "source": [
    "<details>\n",
    "  <summary><b>Object Properties</b></summary>\n",
    "\n",
    "  las Object Properties son un tipo de propiedad que se utiliza para definir relaciones entre individuos (instancias) dentro de una ontología. A diferencia de las Data Properties, que vinculan a un individuo con un valor de dato (como un número o una cadena), las Object Properties conectan a un individuo con otro individuo.\n",
    "\n",
    "  <details>\n",
    "   <summary><b>Características de las Object Properties:</b></summary>\n",
    "\n",
    "   1. __Relaciones entre individuos:__ Las Object Properties permiten establecer relaciones entre dos individuos dentro de la ontología. Por ejemplo, en una ontología de personas, podrías usar una Object Property como \"__esPadreDe__\" para relacionar un individuo con su hijo.\n",
    "\n",
    "   2. __Dominio y Rango:__\n",
    "     \n",
    "   - Dominio: Es la clase a la que pertenece el individuo que inicia la relación. Por ejemplo, si la Object Property es \"__esPadreDe__\", el dominio podría ser la clase \"Persona\".\n",
    "   - Rango: Es la clase del individuo con el que se está relacionando. En el caso de \"__esPadreDe__\", el rango también podría ser \"Persona\".\n",
    "   3. __Subpropiedades:__ Las Object Properties pueden organizarse en una jerarquía de subpropiedades, similar a la forma en que las clases tienen subclases. Una subpropiedad hereda las características de su propiedad superior, pero puede añadir especificaciones adicionales.\n",
    "     \n",
    "   4. __Propiedades inversas:__ Algunas Object Properties pueden tener una propiedad inversa, lo que significa que si un individuo `A` está relacionado con un individuo `B` por medio de una propiedad, entonces el individuo B puede estar relacionado con `A` mediante la propiedad inversa. Por ejemplo, si \"__esPadreDe__\" tiene como inversa \"esHijoDe\", entonces si _Juan_ es padre de Pedro, automáticamente se sabe que Pedro es hijo de _Juan_.\n",
    "     \n",
    "   5. __Propiedades simétricas y transitivas:__\n",
    "     \n",
    "   - Simétrica: Una Object Property es simétrica si la relación es bidireccional. Por ejemplo, si \"esHermanoDe\" es simétrica, entonces si _Juan_ es hermano de Pedro, también Pedro es hermano de _Juan_.\n",
    "   - Transitiva: Una Object Property es transitiva si la relación se puede extender. Por ejemplo, si \"esAncestroDe\" es transitiva, y _Juan_ es ancestro de Pedro, y Pedro es ancestro de Sofía, entonces _Juan_ es ancestro de Sofía.\n",
    "        \n",
    "  </details>\n",
    "    \n",
    "  <details>\n",
    "    <summary><span style=\"color: #1073c5;\">Ejemplo</span></summary>\n",
    "     \n",
    "    Supongamos que tienes una ontología sobre una familia, y los individuos son _Juan_ y _Pedro_. Podrías definir una Object Property llamada __esPadreDe__ para establecer la relación entre ellos:\n",
    "\n",
    "    - _Juan_ es __esPadreDe__ de Pedro.\n",
    "    Aquí, ambos _Juan_ y Pedro son individuos, y __esPadreDe__ es la Object Property que conecta a estos dos individuos.\n",
    "  </details>\n",
    "</details>"
   ]
  },
  {
   "cell_type": "markdown",
   "metadata": {},
   "source": []
  }
 ],
 "metadata": {
  "language_info": {
   "name": "python"
  }
 },
 "nbformat": 4,
 "nbformat_minor": 2
}
