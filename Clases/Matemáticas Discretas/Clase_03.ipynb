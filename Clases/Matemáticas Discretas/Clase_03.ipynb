{
 "cells": [
  {
   "cell_type": "markdown",
   "metadata": {},
   "source": [
    "# **Clase_03**\n",
    "\n",
    "**_Autor:_** Isaac Mesa Gómez\n",
    "\n",
    "**_Clase:_** Matemáticas Discretas\n",
    "\n",
    "**_Fecha:_** Agosto 11, 2024\n",
    "\n",
    "---\n",
    "\n",
    "Código o Notas utilizadas en la clase Matemáticas Discretas para el día Agosto 11, 2024"
   ]
  },
  {
   "cell_type": "markdown",
   "metadata": {},
   "source": [
    "__Falacias__\n",
    "  \n",
    "  1. __Falacia de Composición__\n",
    "   - Descripción: Asume que lo que es verdadero para una parte es verdadero para el todo.\n",
    "   - <span style=\"color: #1073c5;\">Por ejemplo</span>: \"Cada miembro del equipo de fútbol es excelente en su posición; por lo tanto, el equipo completo debe ser excelente.\"\n",
    "  \n",
    "  2. __Falacia de División__\n",
    "   - Descripción: Asume que lo que es verdadero para el todo es verdadero para cada una de las partes.\n",
    "   - <span style=\"color: #1073c5;\">Por ejemplo</span>: \"El equipo de fútbol es excelente, por lo tanto, cada miembro del equipo debe ser excelente.\"\n",
    "  \n",
    "  3. __Non Sequitur (No se sigue)__\n",
    "   - Descripción: La conclusión no se sigue lógicamente de las premisas.\n",
    "   - <span style=\"color: #1073c5;\">Por ejemplo</span>: \"Él tiene un coche caro, por lo tanto, debe ser un buen estudiante.\"\n",
    "  \n",
    "  4. __Generalización Apresurada__\n",
    "   - Descripción: Hace una generalización amplia basándose en una muestra insuficiente.\n",
    "   - <span style=\"color: #1073c5;\">Por ejemplo</span>: \"He conocido a tres personas de esa ciudad y todas eran muy amables. Por lo tanto, todas las personas de esa ciudad deben ser amables.\"\n",
    "\n",
    "  5. __Falsa Causa (Post Hoc)__\n",
    "   - Descripción: Asume que una cosa causa otra simplemente porque ocurre antes.\n",
    "   - <span style=\"color: #1073c5;\">Por ejemplo</span>: \"Desde que el político asumió el cargo, la economía ha mejorado. Por lo tanto, el político debe ser responsable de la mejora económica.\"\n",
    "\n",
    "  6. __Falsa Dicotomía__\n",
    "   - Descripción: Presenta solo dos opciones cuando pueden existir otras alternativas.\n",
    "   - <span style=\"color: #1073c5;\">Por ejemplo</span>: \"O estás con nosotros o estás contra nosotros.\"\n",
    "\n",
    "  7. __Apelación a la Ignorancia__\n",
    "   - Descripción: Afirma que algo es verdadero simplemente porque no se ha demostrado que sea falso, o viceversa.\n",
    "   - <span style=\"color: #1073c5;\">Por ejemplo</span>: \"No hay evidencia de que los extraterrestres no existen, por lo tanto, deben existir.\"\n",
    "\n",
    "  8. __Generalización Excesiva__\n",
    "   - Descripción: Se basa en una cantidad insuficiente de evidencia para hacer una afirmación amplia.\n",
    "   - <span style=\"color: #1073c5;\">Por ejemplo</span>: \"Conocí a un par de personas de esa región que eran groseras. Por lo tanto, todas las personas de esa región deben ser groseras.\"\n",
    "\n",
    "  9. __Falsa Analogía__\n",
    "   - Descripción: Compara dos cosas que no son suficientemente similares para justificar la comparación.\n",
    "   - <span style=\"color: #1073c5;\">Por ejemplo</span>: \"Deberíamos permitir que los estudiantes elijan sus propios horarios, como se hace en las universidades, porque en las universidades funciona bien.\"\n",
    "\n",
    "  10. __Argumento Ad Hominem__\n",
    "   - Descripción: Ataca al oponente en lugar de responder al argumento que presenta.\n",
    "   - <span style=\"color: #1073c5;\">Por ejemplo</span>:\"No deberíamos escuchar su opinión sobre política porque nunca ha trabajado en el gobierno.\"\n",
    "\n"
   ]
  },
  {
   "cell_type": "markdown",
   "metadata": {},
   "source": []
  }
 ],
 "metadata": {
  "language_info": {
   "name": "python"
  }
 },
 "nbformat": 4,
 "nbformat_minor": 2
}
