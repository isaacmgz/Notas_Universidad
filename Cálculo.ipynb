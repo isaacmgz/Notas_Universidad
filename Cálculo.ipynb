{
 "cells": [
  {
   "cell_type": "markdown",
   "metadata": {},
   "source": [
    "# **Cálculo**\n",
    "\n",
    "**_Autor:_** Isaac Mesa Gómez\n",
    "\n",
    "**_Fecha:_** Julio 24, 2024\n",
    "\n",
    "**_Documentación_** `[Texto del enlace](URL)` o `[Descargar PDF con información adicional](ruta/a/tu/archivo.pdf)`\n",
    "\n",
    "---\n",
    "\n",
    "El cálculo diferencial e integral es una rama clave de las matemáticas que estudia el cambio y la acumulación. La diferenciación se enfoca en las tasas de cambio y las derivadas, mientras que la integración se centra en la acumulación y las áreas bajo curvas. Ambos conceptos están interrelacionados a través del teorema fundamental del cálculo, que une estos dos procesos."
   ]
  },
  {
   "cell_type": "markdown",
   "metadata": {},
   "source": [
    "### ☁️ Cálculo diferencial"
   ]
  },
  {
   "cell_type": "markdown",
   "metadata": {},
   "source": [
    "<details>\n",
    "  <summary><b>Definición de derivada</b></summary>\n",
    "\n",
    "  La derivada de una función $f(x)$ en un punto $x$ se define como: $$f'(x) = \\lim_{h \\to 0} \\frac{f(x + h) - f(x)}{h}$$"
   ]
  },
  {
   "cell_type": "markdown",
   "metadata": {},
   "source": [
    "<details>\n",
    "  <summary><b>Reglas de derivación</b></summary>\n",
    "\n",
    "  - Derivada de una cte: $$\\frac{d}{dx}[c] = 0$$\n",
    "  - Derivada de $x^n$: $$\\frac{d}{dx}[x^n] = n x^{n-1}$$\n",
    "  - Derivada de la suma: $$\\frac{d}{dx}[f(x) + g(x)] = f'(x) + g'(x)$$\n",
    "  - Derivada del producto: $$\\frac{d}{dx}[f(x) \\cdot g(x)] = f'(x) \\cdot g(x) + f(x) \\cdot g'(x)$$\n",
    "  - Derivada del cociente: $$\\frac{d}{dx}\\left[\\frac{f(x)}{g(x)}\\right] = \\frac{f'(x) \\cdot g(x) - f(x) \\cdot g'(x)}{[g(x)]^2}$$\n",
    "  - Regla de la cadena: $$\\frac{d}{dx}[f(g(x))] = f'(g(x)) \\cdot g'(x)$$\n",
    "\n",
    "</details>"
   ]
  },
  {
   "cell_type": "markdown",
   "metadata": {},
   "source": [
    "<details>\n",
    "  <summary><b>Aplicaciones de la derivada</b></summary>\n",
    "\n",
    "  - Optimización: Encontrar máximos y mínimos de funciones mediante la derivada. $$f'(x) = 0 \\text{ para encontrar puntos críticos}$$\n",
    "  - Determinar la concavidad y los puntos de inflexión: $$f''(x) > 0 \\text{ indica concavidad hacia arriba} \\\\ f''(x) < 0 \\text{ indica concavidad hacia abajo}$$"
   ]
  },
  {
   "cell_type": "markdown",
   "metadata": {},
   "source": [
    "<details>\n",
    "  <summary><b>Derivadas de funciones Trigonométricas</b></summary>\n",
    "\n",
    "  | Función | Derivada |\n",
    "  |---------|----------|\n",
    "  | $\\sin(x)$ | $\\cos(x)$ |\n",
    "  | $\\cos(x)$ | $-\\sin(x)$ |\n",
    "  | $\\tan(x)$ | $\\sec^2(x)$ |\n",
    "  | $\\cot(x)$ | $-\\csc^2(x)$ |\n",
    "  | $\\sec(x)$ | $\\sec(x)\\tan(x)$ |\n",
    "  | $\\csc(x)$ | $-\\csc(x)\\cot(x)$ |\n",
    "  | $\\sin^{-1}(x)$ | $\\frac{1}{\\sqrt{1-x^2}}$ |\n",
    "  | $\\cos^{-1}(x)$ | $-\\frac{1}{\\sqrt{1-x^2}}$ |\n",
    "  | $\\tan^{-1}(x)$ | $\\frac{1}{1+x^2}$ |\n",
    "  | $\\cot^{-1}(x)$ | $-\\frac{1}{1+x^2}$ |\n",
    "  | $\\sec^{-1}(x)$ | $\\frac{1}{\\left\\lvert x \\right\\rvert \\sqrt{x^2-1}}$ |\n",
    "  | $\\csc^{-1}(x)$ | $-\\frac{1}{\\left\\lvert x \\right\\rvert \\sqrt{x^2-1}}$ |\n",
    "\n",
    "</details>\n"
   ]
  },
  {
   "cell_type": "markdown",
   "metadata": {},
   "source": [
    "### ☁️ Cálculo Integral"
   ]
  },
  {
   "cell_type": "markdown",
   "metadata": {},
   "source": [
    "<details>\n",
    "  <summary><b>Definición de la Integral Definida</b></summary>\n",
    "\n",
    "  La integral definida de una función $f(x)$ desde $a$ hasta $b$ es: $$\\int_{a}^{b} f(x) \\, dx$$\n",
    "\n",
    "</details>"
   ]
  },
  {
   "cell_type": "markdown",
   "metadata": {},
   "source": [
    "<details>\n",
    "  <summary><b>Reglas de integración</b></summary>\n",
    "\n",
    "  - Integral de una cte: $$\\int c \\, dx = c x + C$$\n",
    "  - Integral de $x^n$ (primitiva): $$\\int x^n \\, dx = \\frac{x^{n+1}}{n+1} + C$$\n",
    "  - Integral de $\\frac{1}{x}$: $$\\ln|x| + C$$\n",
    "  - Integral de $e^n$: $$\\int e^x \\, dx = e^x + C$$\n",
    "  - Integral de $\\ln x$: $$x \\ln(x) - x + C$$\n",
    "</details>"
   ]
  },
  {
   "cell_type": "markdown",
   "metadata": {},
   "source": [
    "<details>\n",
    "  <summary><b>Métodos de solución de integrales</b></summary>\n",
    "\n",
    "  - Método de integración por partes (Orden __LIATE__): $$\\int u \\, dv = uv - \\int v \\, du$$\n",
    "  - Método de Sustitución: $$\\int f(g(x)) \\cdot g'(x) \\, dx = \\int f(u) \\, du$$\n",
    "  - Método de Fracciones Parciales: \n",
    "    - Para la función racional : $\\frac{P(x)}{(x - 1)(x + 2)^2}$\n",
    "    - La descomposición es: $\\frac{P(x)}{(x - 1)(x + 2)^2} = \\frac{A}{x - 1} + \\frac{B}{x + 2} + \\frac{C}{(x + 2)^2}$\n",
    "    - Una vez determinadas las constantes $A$, $B$, y $C$, integramos cada término por separado: $$\\int \\frac{A}{x - 1} \\, dx + \\int \\frac{B}{x + 2} \\, dx + \\int \\frac{C}{(x + 2)^2} \\, dx$$\n",
    "  - Método de sustituciones trigonométricas:\n",
    "    $\\\\$\n",
    "    | Integral | Sustitución | Resultado |\n",
    "    |----------|-------------|-----------|\n",
    "    | $\\int \\frac{1}{\\sqrt{a^2 - x^2}} \\, dx$ | $x = a \\sin(\\theta)$ | $\\sin^{-1}\\left(\\frac{x}{a}\\right) + C$ |\n",
    "    | $\\int \\frac{1}{\\sqrt{a^2 + x^2}} \\, dx$ | $x = a \\tan(\\theta)$ | $\\ln\\left\\lvert\\sqrt{a^2 + x^2} + x\\right\\rvert  - \\ln\\left\\lvert a \\right\\rvert  + C$ |\n",
    "    | $\\int \\frac{1}{\\sqrt{x^2 - a^2}} \\, dx$ | $x = a \\sec(\\theta)$ | $\\ln\\left\\lvert x + \\sqrt{x^2 - a^2}\\right\\rvert  - \\ln\\left\\lvert a \\right\\rvert  + C$ |\n",
    "</details>"
   ]
  },
  {
   "cell_type": "markdown",
   "metadata": {},
   "source": [
    "<details>\n",
    "  <summary><b>Integrales de funciones Trigonométricas</b></summary>\n",
    "\n",
    "  $\\\\$\n",
    "  \n",
    "  | Función | Integral |\n",
    "  |---------|----------|\n",
    "  | $\\sin(x)$ | $ -\\cos(x) + C$ |\n",
    "  | $\\cos(x)$ | $ \\sin(x) + C$ |\n",
    "  | $\\tan(x)$ | $ -\\ln \\cos(x) + C$ |\n",
    "  | $\\cot(x)$ | $ \\ln \\sin(x) + C$ |\n",
    "  | $\\sec(x)$ | $ \\ln \\sec(x) + \\tan(x) + C$ |\n",
    "  | $\\csc(x)$ | $ -\\ln \\csc(x) + \\cot(x) + C$ |\n",
    "  | $\\sec^2(x)$ | $\\tan(x) + C$ |\n",
    "  | $\\csc^2(x)$ | $-\\cot(x) + C$ |\n",
    "  | $\\sin^2(x)$ | $\\frac{x}{2} - \\frac{\\sin(2x)}{4} + C$ |\n",
    "  | $\\cos^2(x)$ | $\\frac{x}{2} + \\frac{\\sin(2x)}{4} + C$ |\n",
    "  | $\\int \\frac{du}{\\sqrt{a^2 - u^2}}$ | $\\sin^{-1}\\left(\\frac{u}{a}\\right) + C$ |\n",
    "  | $\\int \\frac{du}{a^2 + u^2}$ | $\\frac{1}{a} \\tan^{-1}\\left(\\frac{u}{a}\\right) + C$ |\n",
    "  | $\\int \\frac{du}{u\\sqrt{u^2 - a^2}}$ | $\\frac{1}{a} \\sec^{-1}\\left(\\frac{u}{a}\\right) + C$ |\n",
    "  | $\\int \\frac{du}{\\sqrt{u^2 \\pm a^2}}$ | $\\ln (u+\\sqrt{u^2 \\pm a^2}) + C$\n",
    "  | $\\int \\frac{du}{u^2-a^2}$ | $\\frac{1}{2a} \\ln \\frac{u-a}{u+a} + C$\n",
    "\n",
    "</details>"
   ]
  },
  {
   "cell_type": "markdown",
   "metadata": {},
   "source": []
  }
 ],
 "metadata": {
  "language_info": {
   "name": "python"
  }
 },
 "nbformat": 4,
 "nbformat_minor": 2
}
